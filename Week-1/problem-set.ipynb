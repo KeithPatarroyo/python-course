{
 "cells": [
  {
   "cell_type": "markdown",
   "metadata": {},
   "source": [
    "# Week 1 - Problem Set\n",
    "\n",
    "**KF Python Course**\n",
    "\n",
    "Out : *February 05, 2025*\n",
    "\n",
    "Due : *February 13, 2025*\n",
    "___"
   ]
  },
  {
   "cell_type": "markdown",
   "metadata": {},
   "source": [
    "# 1. Python Shell\n",
    "\n",
    "A. Check the python version you are using\n",
    "\n",
    "B. Open the python interactive shell and do the following operations. The operands are 3 and 4.\n",
    "\n",
    "   - addition(+)\n",
    "   - subtraction(-)\n",
    "   - multiplication(\\*)\n",
    "   - modulus(%)\n",
    "   - division(/)\n",
    "   - exponential(\\*\\*)\n",
    "   - floor division operator(//)\n",
    "\n",
    "C. Write strings on the python interactive shell. The strings are the following:\n",
    "\n",
    "\n",
    "   - Your name\n",
    "   - Your family name\n",
    "   - Your country\n",
    "   - I am enjoying 90 days of python\n",
    "\n",
    "D. Check the data types of the following data:\n",
    "\n",
    "   - 10\n",
    "   - 9.8\n",
    "   - 3.14\n",
    "   - ['Keith', 'Python', 'Colombia']\n",
    "   - Your name\n",
    "   - Your family name\n",
    "   - Your country\n",
    "\n",
    "# 2. Python Script Execution\n",
    "\n",
    " Create a create a python file homework.py inside the Week-1 folder and repeat questions A, B, C and D. Remember to use _print()_ when you are working on a python file. Navigate to the directory where you have saved your file, and run it.\n"
   ]
  },
  {
   "cell_type": "markdown",
   "metadata": {},
   "source": [
    "# 3. Variables\n",
    "\n",
    "## Part A \n",
    "1. Write a python comment saying 'Week 1 - Python Course'\n",
    "2. Declare a first name variable and assign a value to it\n",
    "3. Declare a last name variable and assign a value to it\n",
    "4. Declare a full name variable and assign a value to it\n",
    "5. Declare a country variable and assign a value to it\n",
    "6. Declare a city variable and assign a value to it\n",
    "7. Declare an age variable and assign a value to it\n",
    "8. Declare a year variable and assign a value to it\n",
    "9. Declare a variable is_married and assign a value to it\n",
    "10. Declare a variable is_true and assign a value to it\n",
    "11. Declare a variable is_light_on and assign a value to it\n",
    "12. Declare multiple variable on one line"
   ]
  },
  {
   "cell_type": "markdown",
   "metadata": {},
   "source": [
    "## Part B\n",
    "1. Check the data type of all your variables using type() built-in function\n",
    "1. Using the _len()_ built-in function, find the length of your first name\n",
    "1. Compare the length of your first name and your last name\n",
    "1. Declare 5 as num_one and 4 as num_two\n",
    "1. Add num_one and num_two and assign the value to a variable total\n",
    "1. Subtract num_two from num_one and assign the value to a variable diff\n",
    "1. Multiply num_two and num_one and assign the value to a variable product\n",
    "1. Divide num_one by num_two and assign the value to a variable division\n",
    "1. Use modulus division to find num_two divided by num_one and assign the value to a variable remainder\n",
    "1. Calculate num_one to the power of num_two and assign the value to a variable exp\n",
    "1. Find floor division of num_one by num_two and assign the value to a variable floor_division\n",
    "1. The radius of a circle is 30 meters.\n",
    "    1. Calculate the area of a circle and assign the value to a variable name of _area_of_circle_\n",
    "    2. Calculate the circumference of a circle and assign the value to a variable name of _circum_of_circle_\n",
    "    3. Take radius as user input and calculate the area."
   ]
  },
  {
   "cell_type": "markdown",
   "metadata": {},
   "source": [
    "# 4. Creating formulas\n",
    "Write the following mathematical formula in Python:\n",
    "\n",
    "\\begin{align}\n",
    " result = 6a^3 - \\frac{8b^2 }{4c} + 11\n",
    "\\end{align}\n"
   ]
  },
  {
   "cell_type": "code",
   "execution_count": null,
   "metadata": {},
   "outputs": [],
   "source": [
    "a = 2\n",
    "b = 3\n",
    "c = 2"
   ]
  },
  {
   "cell_type": "code",
   "execution_count": null,
   "metadata": {},
   "outputs": [],
   "source": [
    "# Your formula here:\n",
    "result = "
   ]
  },
  {
   "cell_type": "code",
   "execution_count": null,
   "metadata": {},
   "outputs": [],
   "source": [
    "assert result == 50"
   ]
  },
  {
   "cell_type": "markdown",
   "metadata": {},
   "source": [
    "# 5. Floating point pitfalls\n",
    "Show that `0.1 + 0.2 == 0.3`"
   ]
  },
  {
   "cell_type": "code",
   "execution_count": null,
   "metadata": {},
   "outputs": [],
   "source": [
    "# Your solution here\n",
    "\n",
    "# This won't work:\n",
    "# assert 0.1 + 0.2 == 0.3"
   ]
  },
  {
   "cell_type": "markdown",
   "metadata": {},
   "source": [
    "# 6. Data types\n",
    "1. Declare your age as integer variable\n",
    "2. Declare your height as a float variable\n",
    "3. Declare a variable that store a complex number\n",
    "\n",
    "4. Write a script that prompts the user to enter side a, side b, and side c of the triangle. Calculate the perimeter of the triangle (perimeter = a + b + c).\n",
    "\n",
    "```py\n",
    "Enter side a: 5\n",
    "Enter side b: 4\n",
    "Enter side c: 3\n",
    "The perimeter of the triangle is 12\n",
    "```\n",
    "\n",
    "6. Get length and width of a rectangle using prompt. Calculate its area (area = length x width) and perimeter (perimeter = 2 x (length + width))\n",
    "7.  Find the length of 'python' and 'dragon' and make a falsy comparison statement.\n",
    "8.  Use _and_ operator to check if 'on' is found in both 'python' and 'dragon'\n",
    "9.  _I hope this course is not full of jargon_. Use _in_ operator to check if _jargon_ is in the sentence.\n",
    "10. There is no 'on' in both dragon and python\n",
    "11. Find the length of the text _python_ and convert the value to float and convert it to string\n",
    "12. Even numbers are divisible by 2 and the remainder is zero. How do you check if a number is even or not using python?\n",
    "13. Check if the floor division of 7 by 3 is equal to the int converted value of 2.7.\n",
    "14. Check if type of '10' is equal to type of 10\n",
    "15. Check if int('9.8') is equal to 10\n",
    "\n",
    "16. Write a script that prompts the user to enter number of years. Calculate the number of seconds a person can live. Assume a person can live hundred years\n",
    "\n",
    "```py\n",
    "Enter number of years you have lived: 100\n",
    "You have lived for 3153600000 seconds.\n",
    "```\n",
    "\n",
    "17. Write a Python script that displays the following table\n",
    "\n",
    "```py\n",
    "1 1 1 1 1\n",
    "2 1 2 4 8\n",
    "3 1 3 9 27\n",
    "4 1 4 16 64\n",
    "5 1 5 25 125\n",
    "```\n",
    "18.   Write a Python script that displays the following table of AND logic:\n",
    "```md\n",
    "1 and 1 = 1\n",
    "1 and 0 = 0\n",
    "0 and 1 = 0\n",
    "0 and 0 = 0\n",
    "```"
   ]
  },
  {
   "cell_type": "markdown",
   "metadata": {},
   "source": []
  }
 ],
 "metadata": {
  "language_info": {
   "name": "python"
  }
 },
 "nbformat": 4,
 "nbformat_minor": 2
}
