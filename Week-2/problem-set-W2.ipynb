{
 "cells": [
  {
   "cell_type": "markdown",
   "metadata": {},
   "source": [
    "# Week 2 - Problem Set\n",
    "\n",
    "**KF Python Course**\n",
    "\n",
    "Out : *February 13, 2025*\n",
    "\n",
    "Due : *February 20, 2025*\n",
    "___"
   ]
  },
  {
   "cell_type": "markdown",
   "metadata": {},
   "source": [
    "# Part A - Strings\n",
    "\n",
    "1. Concatenate the string 'Coding', 'For' , 'All' to a single string, 'Coding For All'.\n",
    "2. Declare a variable named company and assign it to an initial value \"Coding For All\".\n",
    "3. Print the variable company using _print()_.\n",
    "4. Print the length of the company string using _len()_ method and _print()_.\n",
    "5. Change all the characters to uppercase letters using _upper()_ method.\n",
    "6. Change all the characters to lowercase letters using _lower()_ method.\n",
    "7. Use capitalize(), title(), swapcase() methods to format the value of the string _Coding For All_.\n",
    "8. Cut(slice) out the first word of _Coding For All_ string.\n",
    "9.  Check if _Coding For All_ string contains a word Coding using the method index, find or other methods.\n",
    "10. Replace the word coding in the string 'Coding For All' to Python.\n",
    "11. Change Python for Everyone to Python for All using the replace method or other methods.\n",
    "12. Split the string 'Coding For All' using space as the separator (split()) .\n",
    "13. \"Facebook, Google, Microsoft, Apple, IBM, Oracle, Amazon\" split the string at the comma.\n",
    "14. What is the character at index 0 in the string _Coding For All_.\n",
    "15. What is the last index of the string _Coding For All_.\n",
    "16. What character is at index 10 in \"Coding For All\" string.\n",
    "17. Use index to determine the position of the first occurrence of C in Coding For All.\n",
    "18. Use index to determine the position of the first occurrence of F in Coding For All.\n",
    "19. Use rfind to determine the position of the last occurrence of l in Coding For All People.\n",
    "20. Slice out the phrase 'because because because' in the following sentence: 'You cannot end a sentence with because because because is a conjunction'\n",
    "21. Find the position of the first occurrence of the word 'because' in the following sentence: 'You cannot end a sentence with because because because is a conjunction'\n",
    "22. '&nbsp;&nbsp; Coding For All &nbsp;&nbsp;&nbsp; &nbsp;' &nbsp;, remove the left and right trailing spaces in the given string.\n",
    "23. The following list contains the names of some of python libraries: ['Django', 'Flask', 'Bottle', 'Pyramid', 'Falcon']. Join the list with a hash with space string.\n",
    "24. Use the new line escape sequence to separate the following sentences.\n",
    "    ```py\n",
    "    I am enjoying this challenge.\n",
    "    I just wonder what is next.\n",
    "    ```\n",
    "25. Use a tab escape sequence to write the following lines.\n",
    "    ```py\n",
    "    Name      Age     Country   City\n",
    "    Asabeneh  250     Finland   Helsinki\n",
    "    ```\n",
    "26. Use the string formatting method to display the following:\n",
    "\n",
    "```sh\n",
    "radius = 10\n",
    "area = 3.14 * radius ** 2\n",
    "The area of a circle with radius 10 is 314 meters square.\n",
    "```\n",
    "\n",
    "27. Make the following using string formatting methods:\n",
    "\n",
    "```sh\n",
    "8 + 6 = 14\n",
    "8 - 6 = 2\n",
    "8 * 6 = 48\n",
    "8 / 6 = 1.33\n",
    "8 % 6 = 2\n",
    "8 // 6 = 1\n",
    "8 ** 6 = 262144\n",
    "```"
   ]
  },
  {
   "cell_type": "markdown",
   "metadata": {},
   "source": [
    "28. Fill missing pieces\n",
    "Fill `____` pieces below to have correct values for `lower_cased`, `stripped` and `stripped_lower_case` variables."
   ]
  },
  {
   "cell_type": "code",
   "execution_count": null,
   "metadata": {},
   "outputs": [],
   "source": [
    "original = \" Python strings are COOL! \"\n",
    "lower_cased = original._____\n",
    "stripped = ____.strip()\n",
    "stripped_lower_cased = original._____._____"
   ]
  },
  {
   "cell_type": "markdown",
   "metadata": {},
   "source": [
    "29. Prettify ugly string\n",
    "Use `str` methods to convert `ugly` to wanted `pretty`. We should get something like  `\"Title Of My New Book\"`"
   ]
  },
  {
   "cell_type": "code",
   "execution_count": null,
   "metadata": {},
   "outputs": [],
   "source": [
    "ugly = \" tiTle of MY new Book\\n\\n\""
   ]
  },
  {
   "cell_type": "code",
   "execution_count": null,
   "metadata": {},
   "outputs": [],
   "source": [
    "# Your implementation:\n",
    "pretty = \"TODO\""
   ]
  },
  {
   "cell_type": "markdown",
   "metadata": {},
   "source": [
    "30. Format string based on existing variables\n",
    "Create `sentence` by using `verb`, `language`, and `punctuation` and any other strings you may need. The sentence we want to obtain is `Learning Python is fun!`"
   ]
  },
  {
   "cell_type": "code",
   "execution_count": null,
   "metadata": {},
   "outputs": [],
   "source": [
    "verb = \"is\"\n",
    "language = \"Python\"\n",
    "punctuation = \"!\""
   ]
  },
  {
   "cell_type": "code",
   "execution_count": null,
   "metadata": {},
   "outputs": [],
   "source": [
    "# Your implementation:\n",
    "sentence = \"TODO\""
   ]
  },
  {
   "cell_type": "markdown",
   "metadata": {},
   "source": [
    "# Part B - Lists\n",
    "\n",
    "1. Declare an empty list\n",
    "2. Declare a list with more than 5 items\n",
    "3. Find the length of your list\n",
    "4. Get the first item, the middle item and the last item of the list\n",
    "5. Declare a list variable named it_companies and assign initial values Facebook, Google, Microsoft, Apple, IBM, Oracle and Amazon.\n",
    "6. Print the list using _print()_\n",
    "7. Print the number of companies in the list\n",
    "8. Print the first, middle and last company\n",
    "9.  Print the list after modifying one of the companies\n",
    "10. Add an IT company to it_companies\n",
    "11. Insert an IT company in the middle of the companies list\n",
    "12. Change one of the it_companies names to uppercase (IBM excluded!)\n",
    "13. Join the it_companies with a string '#;&nbsp; '\n",
    "15. Check if a certain company exists in the it_companies list.\n",
    "16. Sort the list using sort() method\n",
    "17. Reverse the list in descending order using reverse() method\n",
    "18. Slice out the first 3 companies from the list\n",
    "19. Slice out the last 3 companies from the list\n",
    "20. Slice out the middle IT company or companies from the list\n",
    "21. Remove the first IT company from the list\n",
    "22. Remove the middle IT company or companies from the list\n",
    "23. Remove the last IT company from the list\n",
    "24. Remove all IT companies from the list\n",
    "25. Destroy the IT companies list\n",
    "26. Join the following lists:\n",
    "\n",
    "    ```py\n",
    "    front_end = ['HTML', 'CSS', 'JS', 'React', 'Redux']\n",
    "    back_end = ['Node','Express', 'MongoDB']\n",
    "    ```\n",
    "\n",
    "27. After joining the lists in question 25. Copy the joined list and assign it to a variable full_stack, then insert Python and SQL after Redux."
   ]
  },
  {
   "cell_type": "markdown",
   "metadata": {},
   "source": [
    "27.  Fill the missing pieces\n",
    "Fill the `____` parts of the code below."
   ]
  },
  {
   "cell_type": "code",
   "execution_count": null,
   "metadata": {},
   "outputs": [],
   "source": [
    "# Let's create an empty list\n",
    "my_list = ____\n",
    "\n",
    "# Let's add some values\n",
    "my_list.____(\"Python\")\n",
    "my_list.____(\"is ok\")\n",
    "my_list.____(\"sometimes\")\n",
    "\n",
    "# Let's remove 'sometimes'\n",
    "my_list.____(\"sometimes\")\n",
    "\n",
    "# Let's change the second item\n",
    "my_list[____] = \"is neat\""
   ]
  },
  {
   "cell_type": "markdown",
   "metadata": {},
   "source": [
    "28.   Create a new list from the first one, then modify it without modifiying the original one\n"
   ]
  },
  {
   "cell_type": "code",
   "execution_count": null,
   "metadata": {},
   "outputs": [],
   "source": [
    "original = [\"I\", \"am\", \"learning\", \"hacking\", \"in\"]"
   ]
  },
  {
   "cell_type": "code",
   "execution_count": null,
   "metadata": {},
   "outputs": [],
   "source": [
    "# Your implementation here\n",
    "modified = "
   ]
  },
  {
   "cell_type": "markdown",
   "metadata": {},
   "source": [
    "29. Merge the following lists into one, and sort the resulting list"
   ]
  },
  {
   "cell_type": "code",
   "execution_count": null,
   "metadata": {},
   "outputs": [],
   "source": [
    "list1 = [6, 12, 5]\n",
    "list2 = [6.2, 0, 14, 1]\n",
    "list3 = [0.9]"
   ]
  },
  {
   "cell_type": "code",
   "execution_count": null,
   "metadata": {},
   "outputs": [],
   "source": [
    "# Your implementation here\n",
    "my_list = "
   ]
  },
  {
   "cell_type": "markdown",
   "metadata": {},
   "source": []
  }
 ],
 "metadata": {
  "language_info": {
   "name": "python"
  }
 },
 "nbformat": 4,
 "nbformat_minor": 2
}
