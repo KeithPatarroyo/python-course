{
 "cells": [
  {
   "cell_type": "markdown",
   "metadata": {},
   "source": [
    "# Week 6 - Lecture 9\n",
    "\n",
    "**KF Python Course**\n",
    "\n",
    "*March 18, 2025*\n",
    "___"
   ]
  },
  {
   "cell_type": "markdown",
   "metadata": {},
   "source": [
    "## Git Repository Update\n",
    "\n",
    "Clone the repository, the repository is update every week"
   ]
  },
  {
   "cell_type": "raw",
   "metadata": {},
   "source": [
    "git stash\n",
    "git pull\n",
    "git stash pop"
   ]
  },
  {
   "cell_type": "markdown",
   "metadata": {},
   "source": [
    "## Classes and Objects\n",
    "\n",
    "Python is an object oriented programming language. Everything in Python is an object, with its properties and methods. A number, string, list, dictionary, tuple, set etc. used in a program is an object of a corresponding built-in class. We create class to create an object. A class is like an object constructor, or a \"blueprint\" for creating objects. We instantiate a class to create an object. The class defines attributes and the behavior of the object, while the object, on the other hand, represents the class.\n",
    "\n",
    "We have been working with classes and objects right from the beginning of this challenge unknowingly. Every element in a Python program is an object of a class.\n",
    "Let us check if everything in python is a class:"
   ]
  },
  {
   "cell_type": "markdown",
   "metadata": {},
   "source": [
    "```py\n",
    "mrkeithpatarroyo@DESKTOP-T80V8M:~$ python\n",
    ">>> num = 10\n",
    ">>> type(num)\n",
    ">>> string = 'string'\n",
    ">>> type(string)\n",
    ">>> boolean = True\n",
    ">>> type(boolean)\n",
    ">>> lst = []\n",
    ">>> type(lst)\n",
    ">>> tpl = ()\n",
    ">>> type(tpl)\n",
    ">>> set1 = set()\n",
    ">>> type(set1)\n",
    ">>> dct = {}\n",
    ">>> type(dct)\n",
    "```"
   ]
  },
  {
   "cell_type": "markdown",
   "metadata": {},
   "source": [
    "### Creating a Class\n",
    "\n",
    "To create a class we need the key word **class** followed by the name and colon. Class name should be **CamelCase**."
   ]
  },
  {
   "cell_type": "code",
   "execution_count": null,
   "metadata": {},
   "outputs": [],
   "source": [
    "# syntax\n",
    "class ClassName:\n",
    "  code goes here"
   ]
  },
  {
   "cell_type": "markdown",
   "metadata": {},
   "source": [
    "**Example:**"
   ]
  },
  {
   "cell_type": "code",
   "execution_count": 1,
   "metadata": {},
   "outputs": [
    {
     "name": "stdout",
     "output_type": "stream",
     "text": [
      "<class '__main__.Person'>\n"
     ]
    }
   ],
   "source": [
    "class Person:\n",
    "  pass\n",
    "print(Person)"
   ]
  },
  {
   "cell_type": "markdown",
   "metadata": {},
   "source": [
    "### Creating an Object\n",
    "\n",
    "We can create an object by calling the class."
   ]
  },
  {
   "cell_type": "code",
   "execution_count": 2,
   "metadata": {},
   "outputs": [
    {
     "name": "stdout",
     "output_type": "stream",
     "text": [
      "<__main__.Person object at 0x7f8f945f4550>\n"
     ]
    }
   ],
   "source": [
    "p = Person()\n",
    "print(p)"
   ]
  },
  {
   "cell_type": "markdown",
   "metadata": {},
   "source": [
    "### Class Constructor\n",
    "\n",
    "In the examples above, we have created an object from the Person class. However, a class without a constructor is not really useful in real applications. Let us use constructor function to make our class more useful. Like the constructor function in Java or JavaScript, Python has also a built-in **__init__**() constructor function. The **__init__** constructor function has self parameter which is a reference to the current instance of the class\n",
    "**Examples:**"
   ]
  },
  {
   "cell_type": "code",
   "execution_count": 4,
   "metadata": {},
   "outputs": [
    {
     "name": "stdout",
     "output_type": "stream",
     "text": [
      "Francesca\n",
      "<__main__.Person object at 0x7f8f94609950>\n"
     ]
    }
   ],
   "source": [
    "class Person:\n",
    "      def __init__ (self, name):\n",
    "        # self allows to attach parameter to the class\n",
    "          self.name =name\n",
    "\n",
    "p = Person('Francesca')\n",
    "print(p.name)\n",
    "print(p)"
   ]
  },
  {
   "cell_type": "markdown",
   "metadata": {},
   "source": [
    "Let us add more parameters to the constructor function."
   ]
  },
  {
   "cell_type": "code",
   "execution_count": 6,
   "metadata": {},
   "outputs": [
    {
     "name": "stdout",
     "output_type": "stream",
     "text": [
      "Francesca\n",
      "Carrey\n",
      "27\n",
      "Australia\n",
      "Perth\n"
     ]
    }
   ],
   "source": [
    "class Person:\n",
    "      def __init__(self, firstname, lastname, age, country, city):\n",
    "          self.firstname = firstname\n",
    "          self.lastname = lastname\n",
    "          self.age = age\n",
    "          self.country = country\n",
    "          self.city = city\n",
    "\n",
    "\n",
    "p = Person('Francesca', 'Carrey', 27, 'Australia', 'Perth')\n",
    "print(p.firstname)\n",
    "print(p.lastname)\n",
    "print(p.age)\n",
    "print(p.country)\n",
    "print(p.city)"
   ]
  },
  {
   "cell_type": "markdown",
   "metadata": {},
   "source": [
    "### Object Methods\n",
    "\n",
    "Objects can have methods. The methods are functions which belong to the object.\n",
    "\n",
    "**Example:**"
   ]
  },
  {
   "cell_type": "code",
   "execution_count": 9,
   "metadata": {},
   "outputs": [
    {
     "name": "stdout",
     "output_type": "stream",
     "text": [
      "Francesca Carrey is 27 years old. She lives in Perth, Australia\n"
     ]
    }
   ],
   "source": [
    "class Person:\n",
    "      def __init__(self, firstname, lastname, age, country, city):\n",
    "          self.firstname = firstname\n",
    "          self.lastname = lastname\n",
    "          self.age = age\n",
    "          self.country = country\n",
    "          self.city = city\n",
    "      def person_info(self):\n",
    "        return f'{self.firstname} {self.lastname} is {self.age} years old. She lives in {self.city}, {self.country}'\n",
    "\n",
    "p = Person('Francesca', 'Carrey', 27, 'Australia', 'Perth')\n",
    "print(p.person_info())"
   ]
  },
  {
   "cell_type": "markdown",
   "metadata": {},
   "source": [
    "\n",
    "\n",
    "<img src=\"https://github.com/kushnertodd/jupyter-python/blob/af686fa42bcc496cc70d56ba96b61afb75960a77/notebooks/python-classes-and-objects.jpg?raw=true)\" alt=\"drawing\" width=\"500\"/>"
   ]
  },
  {
   "cell_type": "markdown",
   "metadata": {},
   "source": [
    "### Object Default Methods\n",
    "\n",
    "Sometimes, you may want to have a default values for your object methods. If we give default values for the parameters in the constructor, we can avoid errors when we call or instantiate our class without parameters. Let's see how it looks:\n",
    "\n",
    "**Example:**"
   ]
  },
  {
   "cell_type": "code",
   "execution_count": 11,
   "metadata": {},
   "outputs": [
    {
     "name": "stdout",
     "output_type": "stream",
     "text": [
      "Keith Patarroyo is 28 years old. He lives in Bogota, Colombia.\n",
      "John Doe is 30 years old. He lives in Noman city, Nomanland.\n"
     ]
    }
   ],
   "source": [
    "class Person:\n",
    "      def __init__(self, firstname='Keith', lastname='Patarroyo', age=28, country='Colombia', city='Bogota'):\n",
    "          self.firstname = firstname\n",
    "          self.lastname = lastname\n",
    "          self.age = age\n",
    "          self.country = country\n",
    "          self.city = city\n",
    "\n",
    "      def person_info(self):\n",
    "        return f'{self.firstname} {self.lastname} is {self.age} years old. He lives in {self.city}, {self.country}.'\n",
    "\n",
    "p1 = Person()\n",
    "print(p1.person_info())\n",
    "p2 = Person('John', 'Doe', 30, 'Nomanland', 'Noman city')\n",
    "print(p2.person_info())"
   ]
  },
  {
   "cell_type": "markdown",
   "metadata": {},
   "source": [
    "\n",
    "### Method to Modify Class Default Values\n",
    "\n",
    "In the example below, the person class, all the constructor parameters have default values. In addition to that, we have skills parameter, which we can access using a method. Let us create add_skill method to add skills to the skills list."
   ]
  },
  {
   "cell_type": "code",
   "execution_count": 14,
   "metadata": {},
   "outputs": [
    {
     "name": "stdout",
     "output_type": "stream",
     "text": [
      "Keith Patarroyo is 28 years old. He lives in Bogota, Colombia.\n",
      "John Doe is 30 years old. He lives in Noman city, Nomanland.\n",
      "['jugglimg', 'extortion', 'ballet']\n",
      "[]\n"
     ]
    }
   ],
   "source": [
    "class Person:\n",
    "      def __init__(self, firstname='Keith', lastname='Patarroyo', age=28, country='Colombia', city='Bogota'):\n",
    "          self.firstname = firstname\n",
    "          self.lastname = lastname\n",
    "          self.age = age\n",
    "          self.country = country\n",
    "          self.city = city\n",
    "          self.skills = []\n",
    "\n",
    "      def person_info(self):\n",
    "        return f'{self.firstname} {self.lastname} is {self.age} years old. He lives in {self.city}, {self.country}.'\n",
    "      def add_skill(self, skill):\n",
    "          self.skills.append(skill)\n",
    "\n",
    "p1 = Person()\n",
    "print(p1.person_info())\n",
    "p1.add_skill('juggling')\n",
    "p1.add_skill('extortion')\n",
    "p1.add_skill('ballet')\n",
    "p2 = Person('John', 'Doe', 30, 'Nomanland', 'Noman city')\n",
    "print(p2.person_info())\n",
    "print(p1.skills)\n",
    "print(p2.skills)"
   ]
  },
  {
   "cell_type": "markdown",
   "metadata": {},
   "source": [
    "### Inheritance\n",
    "\n",
    "Using inheritance we can reuse parent class code. Inheritance allows us to define a class that inherits all the methods and properties from parent class. The parent class or super or base class is the class which gives all the methods and properties. Child class is the class that inherits from another or parent class.\n",
    "Let us create a student class by inheriting from person class.\n"
   ]
  },
  {
   "cell_type": "code",
   "execution_count": 20,
   "metadata": {},
   "outputs": [
    {
     "name": "stdout",
     "output_type": "stream",
     "text": [
      "Frank Carrey is 27 years old. He lives in Perth, Australia.\n",
      "['Python', 'Mass Spec', 'Maaath']\n",
      "Elliott Patarroyo is 29 years old. He lives in Bogota, Colombia.\n",
      "['Orthopedics', 'Surgery', 'Being Nice']\n"
     ]
    }
   ],
   "source": [
    "class Student(Person):\n",
    "    pass\n",
    "\n",
    "\n",
    "s1 = Student('Frank', 'Carrey', 27, 'Australia', 'Perth')\n",
    "s2 = Student('Elliott', 'Patarroyo', 29, 'Colombia', 'Bogota')\n",
    "print(s1.person_info())\n",
    "s1.add_skill('Python')\n",
    "s1.add_skill('Mass Spec')\n",
    "s1.add_skill('Maaath')\n",
    "print(s1.skills)\n",
    "\n",
    "print(s2.person_info())\n",
    "s2.add_skill('Orthopedics')\n",
    "s2.add_skill('Surgery')\n",
    "s2.add_skill('Being Nice')\n",
    "print(s2.skills)"
   ]
  },
  {
   "cell_type": "markdown",
   "metadata": {},
   "source": [
    "We did not call the **__init__**() constructor in the child class. If we didn't call it then we can still access all the properties from the parent. But if we do call the constructor we can access the parent properties by calling _super_.  \n",
    "We can add a new method to the child or we can override the parent class methods by creating the same method name in the child class. When we add the **__init__**() function, the child class will no longer inherit the parent's **__init__**() function."
   ]
  },
  {
   "cell_type": "markdown",
   "metadata": {},
   "source": [
    "### Overriding parent method"
   ]
  },
  {
   "cell_type": "code",
   "execution_count": 25,
   "metadata": {},
   "outputs": [
    {
     "name": "stdout",
     "output_type": "stream",
     "text": [
      "Elliott Patarroyo is 29 years old. He lives in Bogota, Colombia.\n",
      "['Orthopedics', 'Surgery', 'Being Nice']\n",
      "Francesca Carrey is 27 years old. She lives in Perth, Australia.\n",
      "['Python', 'Mass Spec', 'getting away with it by being cute']\n"
     ]
    }
   ],
   "source": [
    "class Student(Person):\n",
    "    def __init__ (self, firstname='Keith', lastname='Patarroyo', age=28, country='Colombia', city='Bogota',gender='male'):\n",
    "        self.gender = gender\n",
    "        super().__init__(firstname, lastname,age, country, city)\n",
    "    def person_info(self):\n",
    "        gender = 'He' if self.gender =='male' else 'She'\n",
    "        return f'{self.firstname} {self.lastname} is {self.age} years old. {gender} lives in {self.city}, {self.country}.'\n",
    "\n",
    "s1 = Student('Elliott', 'Patarroyo', 29, 'Colombia', 'Bogota','male')\n",
    "s2 = Student('Francesca', 'Carrey', 27, 'Australia', 'Perth','female')\n",
    "print(s1.person_info())\n",
    "s1.add_skill('Orthopedics')\n",
    "s1.add_skill('Surgery')\n",
    "s1.add_skill('Being Nice')\n",
    "print(s1.skills)\n",
    "\n",
    "print(s2.person_info())\n",
    "s2.add_skill('Python')\n",
    "s2.add_skill('Mass Spec')\n",
    "s2.add_skill('getting away with it by being cute')\n",
    "print(s2.skills)"
   ]
  },
  {
   "cell_type": "markdown",
   "metadata": {},
   "source": [
    "We can use super() built-in function or the parent name Person to automatically inherit the methods and properties from its parent. In the example above we override the parent method. The child method has a different feature, it can identify, if the gender is male or female and assign the proper pronoun(He/She)."
   ]
  },
  {
   "cell_type": "markdown",
   "metadata": {},
   "source": [
    "## Modules\n",
    "\n",
    "### What is a Module\n",
    "\n",
    "A module is a file containing a set of codes or a set of functions which can be included to an application. A module could be a file containing a single variable, a function or a big code base.\n",
    "\n",
    "### Creating a Module\n",
    "\n",
    "To create a module we write our codes in a python script and we save it as a .py file. Create a file named mymodule.py inside your project folder. Let us write some code in this file."
   ]
  },
  {
   "cell_type": "code",
   "execution_count": null,
   "metadata": {},
   "outputs": [],
   "source": [
    "# mymodule.py file\n",
    "def generate_full_name(firstname, lastname):\n",
    "    return firstname + ' ' + lastname"
   ]
  },
  {
   "cell_type": "markdown",
   "metadata": {},
   "source": [
    "Create main.py file in your project directory and import the mymodule.py file.\n",
    "\n",
    "### Importing a Module\n",
    "\n",
    "To import the file we use the _import_ keyword and the name of the file only."
   ]
  },
  {
   "cell_type": "code",
   "execution_count": 29,
   "metadata": {},
   "outputs": [
    {
     "name": "stdout",
     "output_type": "stream",
     "text": [
      "Keith Patarroyo\n"
     ]
    }
   ],
   "source": [
    "# main.py file\n",
    "import mymodule\n",
    "print(mymodule.generate_full_name('Keith', 'Patarroyo')) # Asabeneh Yetayeh"
   ]
  },
  {
   "cell_type": "markdown",
   "metadata": {},
   "source": [
    "### Import Functions from a Module\n",
    "\n",
    "We can have many functions in a file and we can import all the functions differently."
   ]
  },
  {
   "cell_type": "code",
   "execution_count": 1,
   "metadata": {},
   "outputs": [
    {
     "name": "stdout",
     "output_type": "stream",
     "text": [
      "Keith Patarroyo\n",
      "10\n",
      "981.0\n",
      "Francesca\n"
     ]
    }
   ],
   "source": [
    "# main.py file\n",
    "from mymodule import generate_full_name, sum_two_nums, person, gravity\n",
    "print(generate_full_name('Keith','Patarroyo'))\n",
    "print(sum_two_nums(1,9))\n",
    "mass = 100\n",
    "weight = mass * gravity\n",
    "print(weight)\n",
    "print(person['firstname'])"
   ]
  },
  {
   "cell_type": "markdown",
   "metadata": {},
   "source": [
    "\n",
    "\n",
    "### Import Functions from a Module and Renaming\n",
    "\n",
    "During importing we can rename the name of the module.\n"
   ]
  },
  {
   "cell_type": "code",
   "execution_count": 2,
   "metadata": {},
   "outputs": [
    {
     "name": "stdout",
     "output_type": "stream",
     "text": [
      "Asabneh Yetayeh\n",
      "10\n",
      "981.0\n",
      "{'firstname': 'Francesca', 'age': 27, 'country': 'Australia', 'city': 'Perth'}\n",
      "Francesca\n"
     ]
    }
   ],
   "source": [
    "# main.py file\n",
    "from mymodule import generate_full_name as fullname, sum_two_nums as total, person as p, gravity as g\n",
    "print(fullname('Asabneh','Yetayeh'))\n",
    "print(total(1, 9))\n",
    "mass = 100;\n",
    "weight = mass * g\n",
    "print(weight)\n",
    "print(p)\n",
    "print(p['firstname'])"
   ]
  },
  {
   "cell_type": "markdown",
   "metadata": {},
   "source": [
    "#### [Modules and packages](https://docs.python.org/3/tutorial/modules.html#modules)\n",
    "\n",
    "> Module is a Python source code file, i.e. a file with .py extension.\n",
    "\n",
    "> Package is a directory which contains `__init__.py` file and can contain python modules and other packages.  \n"
   ]
  },
  {
   "cell_type": "markdown",
   "metadata": {},
   "source": [
    "#### Why to organize your code into modules and packages\n",
    "* Maintainability\n",
    "* Reusability\n",
    "* Namespacing\n",
    "* People unfamiliar with your project can get a clear overview just by looking at the directory structure of your project\n",
    "* Searching for certain functionality or class is easy"
   ]
  },
  {
   "cell_type": "markdown",
   "metadata": {},
   "source": [
    "##### How to use\n",
    "\n",
    "Let's use the following directory structure as an example:\n",
    "\n",
    "      \n",
    "```\n",
    "food_store/\n",
    "    __init__.py\n",
    "    \n",
    "    product/\n",
    "        __init__.py\n",
    "        \n",
    "        fruit/\n",
    "            __init__.py\n",
    "            apple.py\n",
    "            banana.py\n",
    "            \n",
    "        drink/\n",
    "            __init__.py\n",
    "            juice.py\n",
    "            milk.py\n",
    "            beer.py\n",
    "\n",
    "    cashier/\n",
    "        __ini__.py\n",
    "        receipt.py\n",
    "        calculator.py\n",
    "```"
   ]
  },
  {
   "cell_type": "markdown",
   "metadata": {},
   "source": [
    "Let's consider that banana.py file contains:\n"
   ]
  },
  {
   "cell_type": "code",
   "execution_count": null,
   "metadata": {},
   "outputs": [],
   "source": [
    "def get_available_brands():\n",
    "    return [\"chiquita\"]\n",
    "\n",
    "\n",
    "class Banana:\n",
    "    def __init__(self, brand=\"chiquita\"):\n",
    "        if brand not in get_available_brands():\n",
    "            raise ValueError(f\"Unknown brand: {brand}\")\n",
    "        self._brand = brand"
   ]
  },
  {
   "cell_type": "markdown",
   "metadata": {},
   "source": [
    "### Importing\n",
    "\n",
    "Let's say that we need access `Banana` class from banana.py file inside receipt.py. We can achive this by importing at the beginning of receipt.py:"
   ]
  },
  {
   "cell_type": "code",
   "execution_count": 12,
   "metadata": {},
   "outputs": [],
   "source": [
    "from food_store.product.fruit.banana import Banana\n",
    "\n",
    "# then it's used like this\n",
    "my_banana = Banana()"
   ]
  },
  {
   "cell_type": "markdown",
   "metadata": {},
   "source": [
    "\n",
    "\n",
    "If we need to access multiple classes or functions from banana.py file:\n"
   ]
  },
  {
   "cell_type": "code",
   "execution_count": 13,
   "metadata": {},
   "outputs": [],
   "source": [
    "from food_store.product.fruit import banana\n",
    "\n",
    "# then it's used like this\n",
    "brands = banana.get_available_brands()\n",
    "my_banana = banana.Banana()"
   ]
  },
  {
   "cell_type": "markdown",
   "metadata": {},
   "source": [
    "A comprehensive introduction to modules and packages can be found [here](https://realpython.com/python-modules-packages/)."
   ]
  },
  {
   "cell_type": "markdown",
   "metadata": {},
   "source": [
    "\n",
    "## Import Built-in Modules\n",
    "\n",
    "Like other programming languages we can also import modules by importing the file/function using the key word _import_. Let's import the common module we will use most of the time. Some of the common built-in modules: _math_, _datetime_, _os_,_sys_, _random_, _statistics_, _collections_, _json_,_re_"
   ]
  },
  {
   "cell_type": "markdown",
   "metadata": {},
   "source": [
    "\n",
    "### OS Module\n",
    "\n",
    "Using python _os_ module it is possible to automatically perform many operating system tasks. The OS module in Python provides functions for creating, changing current working directory, and removing a directory (folder), fetching its contents, changing and identifying the current directory."
   ]
  },
  {
   "cell_type": "code",
   "execution_count": 10,
   "metadata": {},
   "outputs": [],
   "source": [
    "# import the module\n",
    "import os\n",
    "# Creating a directory\n",
    "#os.mkdir('directory_name')\n",
    "# Changing the current directory\n",
    "os.chdir('/home/mrkeithpatarroyo/workspace/python-course/Week-6')\n",
    "# Getting current working directory\n",
    "os.getcwd()\n",
    "# Removing directory\n",
    "os.rmdir('/home/mrkeithpatarroyo/workspace/python-course/Week-6/directory_name')"
   ]
  },
  {
   "cell_type": "markdown",
   "metadata": {},
   "source": [
    "### Sys Module\n",
    "\n",
    "The sys module provides functions and variables used to manipulate different parts of the Python runtime environment. Function sys.argv returns a list of command line arguments passed to a Python script. The item at index 0 in this list is always the name of the script, at index 1 is the argument passed from the command line.\n",
    "\n",
    "Example of a script.py file:"
   ]
  },
  {
   "cell_type": "code",
   "execution_count": null,
   "metadata": {},
   "outputs": [],
   "source": [
    "import sys\n",
    "#print(sys.argv[0], argv[1],sys.argv[2])  # this line would print out: filename argument1 argument2\n",
    "print('Welcome {}. Enjoy  {} challenge!'.format(sys.argv[1], sys.argv[2]))"
   ]
  },
  {
   "cell_type": "markdown",
   "metadata": {},
   "source": [
    "Now to check how this script works I wrote in command line:\n",
    "\n",
    "```sh\n",
    "python script.py Keith Python\n",
    "```\n",
    "\n",
    "The result:\n",
    "\n",
    "```sh\n",
    "Welcome Keith. Enjoy  Python challenge!\n",
    "```"
   ]
  },
  {
   "cell_type": "code",
   "execution_count": 2,
   "metadata": {},
   "outputs": [
    {
     "name": "stdout",
     "output_type": "stream",
     "text": [
      "9223372036854775807\n",
      "['/home/mrkeithpatarroyo/workspace/python-course/Week-6', '/home/mrkeithpatarroyo/anaconda3/lib/python311.zip', '/home/mrkeithpatarroyo/anaconda3/lib/python3.11', '/home/mrkeithpatarroyo/anaconda3/lib/python3.11/lib-dynload', '', '/home/mrkeithpatarroyo/anaconda3/lib/python3.11/site-packages']\n",
      "3.11.5 (main, Sep 11 2023, 13:54:46) [GCC 11.2.0]\n"
     ]
    }
   ],
   "source": [
    "import sys\n",
    "# To know the largest integer variable it takes\n",
    "print(sys.maxsize)\n",
    "# To know environment path\n",
    "print(sys.path)\n",
    "# To know the version of python you are using\n",
    "print(sys.version)\n",
    "# to exit sys\n",
    "#sys.exit()"
   ]
  },
  {
   "cell_type": "markdown",
   "metadata": {},
   "source": [
    "### Statistics Module\n",
    "\n",
    "The statistics module provides functions for mathematical statistics of numeric data. The popular statistical functions which are defined in this module: _mean_, _median_, _mode_, _stdev_ etc."
   ]
  },
  {
   "cell_type": "code",
   "execution_count": 3,
   "metadata": {},
   "outputs": [
    {
     "name": "stdout",
     "output_type": "stream",
     "text": [
      "21.09090909090909\n",
      "22\n",
      "20\n",
      "6.106628291529549\n"
     ]
    }
   ],
   "source": [
    "from statistics import * # importing all the statistics modules\n",
    "ages = [20, 20, 4, 24, 25, 22, 26, 20, 23, 22, 26]\n",
    "print(mean(ages))       # ~22.9\n",
    "print(median(ages))     # 23\n",
    "print(mode(ages))       # 20\n",
    "print(stdev(ages))      # ~2.3"
   ]
  },
  {
   "cell_type": "markdown",
   "metadata": {},
   "source": [
    "### Math Module\n",
    "\n",
    "Module containing many mathematical operations and constants."
   ]
  },
  {
   "cell_type": "code",
   "execution_count": 4,
   "metadata": {},
   "outputs": [
    {
     "name": "stdout",
     "output_type": "stream",
     "text": [
      "3.141592653589793\n",
      "1.4142135623730951\n",
      "8.0\n",
      "9\n",
      "10\n",
      "2.0\n"
     ]
    }
   ],
   "source": [
    "import math\n",
    "print(math.pi)           # 3.141592653589793, pi constant\n",
    "print(math.sqrt(2))      # 1.4142135623730951, square root\n",
    "print(math.pow(2, 3))    # 8.0, exponential function\n",
    "print(math.floor(9.81))  # 9, rounding to the lowest\n",
    "print(math.ceil(9.81))   # 10, rounding to the highest\n",
    "print(math.log10(100))   # 2, logarithm with 10 as base"
   ]
  },
  {
   "cell_type": "markdown",
   "metadata": {},
   "source": [
    "Now, we have imported the *math* module which contains lots of function which can help us to perform mathematical calculations. To check what functions the module has got, we can use _help(math)_, or _dir(math)_. This will display the available functions in the module. If we want to import only a specific function from the module we import it as follows:"
   ]
  },
  {
   "cell_type": "code",
   "execution_count": 5,
   "metadata": {},
   "outputs": [
    {
     "name": "stdout",
     "output_type": "stream",
     "text": [
      "3.141592653589793\n"
     ]
    }
   ],
   "source": [
    "from math import pi\n",
    "print(pi)"
   ]
  },
  {
   "cell_type": "markdown",
   "metadata": {},
   "source": [
    "It is also possible to import multiple functions at once"
   ]
  },
  {
   "cell_type": "code",
   "execution_count": 6,
   "metadata": {},
   "outputs": [
    {
     "name": "stdout",
     "output_type": "stream",
     "text": [
      "3.141592653589793\n",
      "1.4142135623730951\n",
      "8.0\n",
      "9\n",
      "10\n",
      "2.0\n"
     ]
    }
   ],
   "source": [
    "from math import pi, sqrt, pow, floor, ceil, log10\n",
    "print(pi)                 # 3.141592653589793\n",
    "print(sqrt(2))            # 1.4142135623730951\n",
    "print(pow(2, 3))          # 8.0\n",
    "print(floor(9.81))        # 9\n",
    "print(ceil(9.81))         # 10\n",
    "print(math.log10(100))    # 2"
   ]
  },
  {
   "cell_type": "markdown",
   "metadata": {},
   "source": [
    "\n",
    "But if we want to import all the function in math module we can use \\* ."
   ]
  },
  {
   "cell_type": "code",
   "execution_count": 7,
   "metadata": {},
   "outputs": [
    {
     "name": "stdout",
     "output_type": "stream",
     "text": [
      "3.141592653589793\n",
      "1.4142135623730951\n",
      "8.0\n",
      "9\n",
      "10\n",
      "2.0\n"
     ]
    }
   ],
   "source": [
    "from math import *\n",
    "print(pi)                  # 3.141592653589793, pi constant\n",
    "print(sqrt(2))             # 1.4142135623730951, square root\n",
    "print(pow(2, 3))           # 8.0, exponential\n",
    "print(floor(9.81))         # 9, rounding to the lowest\n",
    "print(ceil(9.81))          # 10, rounding to the highest\n",
    "print(math.log10(100))     # 2"
   ]
  },
  {
   "cell_type": "markdown",
   "metadata": {},
   "source": [
    "When we import we can also rename the name of the function."
   ]
  },
  {
   "cell_type": "code",
   "execution_count": 8,
   "metadata": {},
   "outputs": [
    {
     "name": "stdout",
     "output_type": "stream",
     "text": [
      "3.141592653589793\n"
     ]
    }
   ],
   "source": [
    "from math import pi as  PI\n",
    "print(PI) # 3.141592653589793"
   ]
  },
  {
   "cell_type": "markdown",
   "metadata": {},
   "source": [
    "### String Module\n",
    "\n",
    "A string module is a useful module for many purposes. The example below shows some use of the string module."
   ]
  },
  {
   "cell_type": "code",
   "execution_count": 9,
   "metadata": {},
   "outputs": [
    {
     "name": "stdout",
     "output_type": "stream",
     "text": [
      "abcdefghijklmnopqrstuvwxyzABCDEFGHIJKLMNOPQRSTUVWXYZ\n",
      "0123456789\n",
      "!\"#$%&'()*+,-./:;<=>?@[\\]^_`{|}~\n"
     ]
    }
   ],
   "source": [
    "import string\n",
    "print(string.ascii_letters) # abcdefghijklmnopqrstuvwxyzABCDEFGHIJKLMNOPQRSTUVWXYZ\n",
    "print(string.digits)        # 0123456789\n",
    "print(string.punctuation)   # !\"#$%&'()*+,-./:;<=>?@[\\]^_`{|}~"
   ]
  },
  {
   "cell_type": "markdown",
   "metadata": {},
   "source": [
    "### Random Module\n",
    "\n",
    "By now you are familiar with importing modules. Let us do one more import to get very familiar with it. Let us import _random_ module which gives us a random number between 0 and 0.9999.... The _random_ module has lots of functions but in this section we will only use _random_ and _randint_."
   ]
  },
  {
   "cell_type": "code",
   "execution_count": 11,
   "metadata": {},
   "outputs": [
    {
     "name": "stdout",
     "output_type": "stream",
     "text": [
      "0.6498078058841992\n",
      "14\n"
     ]
    }
   ],
   "source": [
    "from random import random, randint\n",
    "print(random())   # it doesn't take any arguments; it returns a value between 0 and 0.9999\n",
    "print(randint(5, 20)) # it returns a random integer number between [5, 20] inclusive"
   ]
  },
  {
   "cell_type": "markdown",
   "metadata": {},
   "source": []
  }
 ],
 "metadata": {
  "kernelspec": {
   "display_name": "base",
   "language": "python",
   "name": "python3"
  },
  "language_info": {
   "codemirror_mode": {
    "name": "ipython",
    "version": 3
   },
   "file_extension": ".py",
   "mimetype": "text/x-python",
   "name": "python",
   "nbconvert_exporter": "python",
   "pygments_lexer": "ipython3",
   "version": "3.11.5"
  }
 },
 "nbformat": 4,
 "nbformat_minor": 2
}
