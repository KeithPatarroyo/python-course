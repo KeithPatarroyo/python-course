{
 "cells": [
  {
   "cell_type": "markdown",
   "metadata": {},
   "source": [
    "# Week 5 - Problem Set\n",
    "\n",
    "**KF Python Course**\n",
    "\n",
    "Out : *March 19, 2025*\n",
    "\n",
    "Due : *March 27, 2025*\n",
    "___"
   ]
  },
  {
   "cell_type": "markdown",
   "metadata": {},
   "source": [
    "# A. File I/O"
   ]
  },
  {
   "cell_type": "code",
   "execution_count": null,
   "metadata": {},
   "outputs": [],
   "source": [
    "# EXECUTE THIS ONE FIRST!\n",
    "\n",
    "from pathlib import Path\n",
    "\n",
    "# Constants for the exercises:\n",
    "WORKING_DIR = Path.cwd()\n",
    "DATA_DIR = WORKING_DIR.parent / \"data\""
   ]
  },
  {
   "cell_type": "markdown",
   "metadata": {},
   "source": [
    "1. Fill ____ pieces of the code below. `sum_numbers_in_file` function takes a input file path as argument, reads the numbers listed in the input file and returns the sum of those numbers. You can assume that each line contains exactly one numeric value."
   ]
  },
  {
   "cell_type": "code",
   "execution_count": null,
   "metadata": {},
   "outputs": [],
   "source": [
    "def sum_numbers_in_file(input_file):\n",
    "    total = 0\n",
    "    with ____(input_file) as ____:\n",
    "        for line in ____:\n",
    "            ____ = line.strip()  # Remove potential white space\n",
    "            total += float(____)\n",
    "    return _____"
   ]
  },
  {
   "cell_type": "code",
   "execution_count": null,
   "metadata": {},
   "outputs": [],
   "source": [
    "in_file = DATA_DIR / \"numbers.txt\"\n",
    "# sum_numbers_in_file(in_file) == 189.5"
   ]
  },
  {
   "cell_type": "markdown",
   "metadata": {},
   "source": [
    "\n",
    "2. Implement `find_first_words` function which takes an input file path as argument. The function should find the first word of each line in the file and return these words as a list. If a line is empty, the returned list should contain an empty string for that line."
   ]
  },
  {
   "cell_type": "code",
   "execution_count": null,
   "metadata": {},
   "outputs": [],
   "source": [
    "# Your implementation here"
   ]
  },
  {
   "cell_type": "code",
   "execution_count": null,
   "metadata": {},
   "outputs": [],
   "source": [
    "in_file1 = DATA_DIR / \"simple_file.txt\"\n",
    "in_file2 = DATA_DIR / \"simple_file_with_empty_lines.txt\"\n",
    "\n",
    "# find_first_words(in_file1) \n",
    "\n",
    "# find_first_words(in_file2)"
   ]
  },
  {
   "cell_type": "markdown",
   "metadata": {},
   "source": [
    "3. Write a function which count number of lines and number of words in a text. All the files are in the `data` the folder:\n",
    "   \n",
    "   a) Read `obama_speech.txt` file and count number of lines and words\n",
    "   \n",
    "   b) Read `michelle_obama_speech.txt` file and count number of lines and words\n",
    "   \n",
    "   c) Read `donald_speech.txt` file and count number of lines and words\n",
    "   \n",
    "   d) Read `melina_trump_speech.txt` file and count number of lines and words\n",
    "4. Read the countries_data.json data file in data directory, create a function that finds the ten most spoken languages\n",
    "\n",
    "   ```py\n",
    "   # Your output should look like this\n",
    "   print(most_spoken_languages(filename='./data/countries_data.json', 10))\n",
    "   [(91, 'English'),\n",
    "   (45, 'French'),\n",
    "   (25, 'Arabic'),\n",
    "   (24, 'Spanish'),\n",
    "   (9, 'Russian'),\n",
    "   (9, 'Portuguese'),\n",
    "   (8, 'Dutch'),\n",
    "   (7, 'German'),\n",
    "   (5, 'Chinese'),\n",
    "   (4, 'Swahili'),\n",
    "   (4, 'Serbian')]\n",
    "\n",
    "   # Your output should look like this\n",
    "   print(most_spoken_languages(filename='./data/countries_data.json', 3))\n",
    "   [(91, 'English'),\n",
    "   (45, 'French'),\n",
    "   (25, 'Arabic')]\n",
    "   ```\n",
    "\n",
    "3. Read the countries_data.json data file in data directory, create a function that creates a list of the ten most populated countries\n",
    "\n",
    "   ```py\n",
    "   # Your output should look like this\n",
    "   print(most_populated_countries(filename='./data/countries_data.json', 10))\n",
    "\n",
    "   [\n",
    "   {'country': 'China', 'population': 1377422166},\n",
    "   {'country': 'India', 'population': 1295210000},\n",
    "   {'country': 'United States of America', 'population': 323947000},\n",
    "   {'country': 'Indonesia', 'population': 258705000},\n",
    "   {'country': 'Brazil', 'population': 206135893},\n",
    "   {'country': 'Pakistan', 'population': 194125062},\n",
    "   {'country': 'Nigeria', 'population': 186988000},\n",
    "   {'country': 'Bangladesh', 'population': 161006790},\n",
    "   {'country': 'Russian Federation', 'population': 146599183},\n",
    "   {'country': 'Japan', 'population': 126960000}\n",
    "   ]\n",
    "\n",
    "   # Your output should look like this\n",
    "\n",
    "   print(most_populated_countries(filename='./data/countries_data.json', 3))\n",
    "   [\n",
    "   {'country': 'China', 'population': 1377422166},\n",
    "   {'country': 'India', 'population': 1295210000},\n",
    "   {'country': 'United States of America', 'population': 323947000}\n",
    "   ]\n",
    "   ```"
   ]
  },
  {
   "cell_type": "markdown",
   "metadata": {},
   "source": [
    "# B. Modules\n",
    "\n",
    "1. In a new project folder called `package_exercises/`, create a package\n",
    "called helpers with three modules: `__init__.py`, `string.py`, and\n",
    "`math.py`.\n",
    "\n",
    "    a. In the `string.py` module, add a function called `shout()` that\n",
    "    takes a single string parameter and returns a new string with all\n",
    "    of the letters in uppercase.\n",
    "\n",
    "    b. In the `math.py` module, as a function called `area()` that takes\n",
    "    two parameters called length and width and returns their product\n",
    "    length * width.\n",
    "\n",
    "    *** The `__init__.py` module doesn’t need to contain any code! It only\n",
    "    needs to exist so that Python recognizes the mypackage/ folder as a\n",
    "    Python package.\n",
    "\n",
    "1. Outside the folder `package_exercises/`, create a module called `main.py` that imports the `shout()` and `area()` functions. Use the `shout()` and `area()` functions to print the following output:\n",
    "   ```raw   \n",
    "    THE AREA OF A 5-BY-8 RECTANGLE IS 40\n",
    "   ```"
   ]
  },
  {
   "cell_type": "markdown",
   "metadata": {},
   "source": [
    "# C. Classes\n",
    "\n",
    "1. Fill `____` pieces of the `Calculator` implemention and test the functions for the object `Calculator(2, 3)`"
   ]
  },
  {
   "cell_type": "code",
   "execution_count": null,
   "metadata": {},
   "outputs": [],
   "source": [
    "class Calculator:\n",
    "    def __init__(self, var1, ____):\n",
    "        self.____ = var1\n",
    "        self.____ = _____\n",
    "\n",
    "    def calculate_power(self):\n",
    "        return self.____**____.____\n",
    "\n",
    "    def calculate_sum(____, var3):\n",
    "        return ____.____ + ____.____ + var3"
   ]
  },
  {
   "cell_type": "code",
   "execution_count": null,
   "metadata": {},
   "outputs": [],
   "source": [
    "calc = Calculator(2, 3)\n",
    "#calc.calculate_power() \n",
    "#calc.calculate_sum(4)"
   ]
  },
  {
   "cell_type": "markdown",
   "metadata": {},
   "source": [
    "2. Finalize `StringManipulator` class. Fill `____` pieces and create implementation for `stripped_title()`.\n",
    "\n",
    "    a. Check the Doctstring of the class with  `StringManipulator.__doc__`\n",
    "\n",
    "    b. Check you can access variables of the class with `StringManipulator.category`\n",
    "\n",
    "    c. Test the Class with the object `StringManipulator(\"cOOL pyThON\")`"
   ]
  },
  {
   "cell_type": "code",
   "execution_count": null,
   "metadata": {},
   "outputs": [],
   "source": [
    "class StringManipulator:\n",
    "    \"\"\"This is a function that manipulates strings, reversing words and transforming the string to title format\"\"\"\n",
    "    \n",
    "    category = \"Manipulator\"\n",
    "    \n",
    "    def __init__(self, original):\n",
    "        self.string = ____\n",
    "        \n",
    "    def reverse_words(self):\n",
    "        words = self.string.____\n",
    "        self.string = ' '.join(reversed(____))\n",
    "        \n",
    "    def make_title(self):\n",
    "        # Create implementation for this\n",
    "        \n",
    "    def get_manipulated(____):\n",
    "        return self._____"
   ]
  },
  {
   "cell_type": "code",
   "execution_count": null,
   "metadata": {},
   "outputs": [],
   "source": [
    "str_manip = StringManipulator(\"cOOL pyThON\")\n",
    "\n",
    "str_manip.reverse_words()\n",
    "#str_manip.get_manipulated() == \"pyThON cOOL\"\n",
    "\n",
    "str_manip.make_title()\n",
    "# str_manip.get_manipulated() == \"Python Cool\""
   ]
  },
  {
   "cell_type": "markdown",
   "metadata": {},
   "source": [
    "\n",
    "3. Create `Dog` class which has the following specification:\n",
    "* Dogs consume their energy by barking and gain energy by sleeping\n",
    "* A fresh `Dog` instance has 10 units of energy\n",
    "* `Dog` has a method `sleep` which gives 2 units of energy\n",
    "* `Dog` has a method `bark` which consumes 1 unit of energy\n",
    "* `Dog` has a method `get_energy` which returns the amount of energy left "
   ]
  },
  {
   "cell_type": "code",
   "execution_count": null,
   "metadata": {},
   "outputs": [],
   "source": [
    "class Dog:\n",
    "    # Your implementation here"
   ]
  },
  {
   "cell_type": "code",
   "execution_count": null,
   "metadata": {},
   "outputs": [],
   "source": [
    "doge = Dog()\n",
    "#doge.get_energy() == 10\n",
    "\n",
    "doge.bark()\n",
    "doge.bark()\n",
    "doge.bark()\n",
    "# doge.get_energy() == 7\n",
    "\n",
    "doge.sleep()\n",
    "# doge.get_energy() == 9\n",
    "\n",
    "another_doge = Dog()\n",
    "# another_doge.get_energy() == 10"
   ]
  },
  {
   "cell_type": "markdown",
   "metadata": {},
   "source": [
    " 4. Python has the module called _statistics_ and we can use this module to do all the statistical calculations. However, to learn how to make function and reuse function let us try to develop a program, which calculates the measure of central tendency of a sample (mean, median, mode) and measure of variability (range, variance, standard deviation). In addition to those measures, find the min, max, count, percentile, and frequency distribution of the sample. You can create a class called Statistics and create all the functions that do statistical calculations as methods for the Statistics class. Check the output below.\n",
    "\n",
    "```py\n",
    "ages = [31, 26, 34, 37, 27, 26, 32, 32, 26, 27, 27, 24, 32, 33, 27, 25, 26, 38, 37, 31, 34, 24, 33, 29, 26]\n",
    "\n",
    "print('Count:', data.count()) # 25\n",
    "print('Sum: ', data.sum()) # 744\n",
    "print('Min: ', data.min()) # 24\n",
    "print('Max: ', data.max()) # 38\n",
    "print('Range: ', data.range() # 14\n",
    "print('Mean: ', data.mean()) # 30\n",
    "print('Median: ', data.median()) # 29\n",
    "print('Mode: ', data.mode()) # {'mode': 26, 'count': 5}\n",
    "print('Standard Deviation: ', data.std()) # 4.2\n",
    "print('Variance: ', data.var()) # 17.5\n",
    "print('Frequency Distribution: ', data.freq_dist()) # [(20.0, 26), (16.0, 27), (12.0, 32), (8.0, 37), (8.0, 34), (8.0, 33), (8.0, 31), (8.0, 24), (4.0, 38), (4.0, 29), (4.0, 25)]\n",
    "```\n",
    "\n",
    "```sh\n",
    "# you output should look like this\n",
    "print(data.describe())\n",
    "Count: 25\n",
    "Sum:  744\n",
    "Min:  24\n",
    "Max:  38\n",
    "Range:  14\n",
    "Mean:  30\n",
    "Median:  29\n",
    "Mode:  (26, 5)\n",
    "Variance:  17.5\n",
    "Standard Deviation:  4.2\n",
    "Frequency Distribution: [(20.0, 26), (16.0, 27), (12.0, 32), (8.0, 37), (8.0, 34), (8.0, 33), (8.0, 31), (8.0, 24), (4.0, 38), (4.0, 29), (4.0, 25)]\n",
    "```\n"
   ]
  },
  {
   "cell_type": "markdown",
   "metadata": {},
   "source": []
  }
 ],
 "metadata": {
  "language_info": {
   "name": "python"
  }
 },
 "nbformat": 4,
 "nbformat_minor": 2
}
