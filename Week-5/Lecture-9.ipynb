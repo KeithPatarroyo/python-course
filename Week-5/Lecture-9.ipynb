{
 "cells": [
  {
   "cell_type": "markdown",
   "metadata": {},
   "source": [
    "# Week 5 - Lecture 9\n",
    "\n",
    "**KF Python Course**\n",
    "\n",
    "*March 06, 2025*\n",
    "___"
   ]
  },
  {
   "cell_type": "markdown",
   "metadata": {},
   "source": [
    "## Git Repository Update\n",
    "\n",
    "Clone the repository, the repository is update every week"
   ]
  },
  {
   "cell_type": "raw",
   "metadata": {},
   "source": [
    "git stash\n",
    "git pull\n",
    "git stash pop "
   ]
  },
  {
   "cell_type": "markdown",
   "metadata": {},
   "source": [
    "### File I/O\n",
    "Reading and writing files.\n",
    "\n",
    "#### Working with paths"
   ]
  },
  {
   "cell_type": "code",
   "execution_count": 8,
   "metadata": {},
   "outputs": [
    {
     "name": "stdout",
     "output_type": "stream",
     "text": [
      "current file: /home/mrkeithpatarroyo/workspace/python-course/Week-5/Lecture-9.ipynb\n",
      "current directory: /home/mrkeithpatarroyo/workspace/python-course/Week-5\n",
      "files directory: /home/mrkeithpatarroyo/workspace/python-course/Week-5/files\n"
     ]
    }
   ],
   "source": [
    "from pathlib import Path\n",
    "\n",
    "current_file = Path(\"Lecture-9.ipynb\").resolve()\n",
    "print(f\"current file: {current_file}\")\n",
    "# Note: in .py files you can get the path of current file by Path(__file__)\n",
    "\n",
    "current_dir = current_file.parent\n",
    "print(f\"current directory: {current_dir}\")\n",
    "\n",
    "data_dir = current_dir / \"files\"\n",
    "print(f\"files directory: {data_dir}\")"
   ]
  },
  {
   "cell_type": "markdown",
   "metadata": {},
   "source": [
    "#### Checking if path exists"
   ]
  },
  {
   "cell_type": "code",
   "execution_count": 9,
   "metadata": {},
   "outputs": [
    {
     "name": "stdout",
     "output_type": "stream",
     "text": [
      "exists: True\n",
      "is file: False\n",
      "is directory: True\n"
     ]
    }
   ],
   "source": [
    "print(f\"exists: {data_dir.exists()}\")\n",
    "print(f\"is file: {data_dir.is_file()}\")\n",
    "print(f\"is directory: {data_dir.is_dir()}\")"
   ]
  },
  {
   "cell_type": "markdown",
   "metadata": {},
   "source": [
    "## File Handling\n",
    "\n",
    "So far we have seen different Python data types. We usually store our data in different file formats. In addition to handling files, we will also see different file formats(.txt, .json, .xml, .csv, .tsv, .excel) in this section. First, let us get familiar with handling files with common file format(.txt).\n",
    "\n",
    "File handling is an import part of programming which allows us to create, read, update and delete files. In Python to handle data we use _open()_ built-in function."
   ]
  },
  {
   "cell_type": "code",
   "execution_count": null,
   "metadata": {},
   "outputs": [],
   "source": [
    "# Syntax\n",
    "open('filename', mode) # mode(r, a, w, x, t,b)  could be to read, write, update"
   ]
  },
  {
   "cell_type": "markdown",
   "metadata": {},
   "source": [
    "- \"r\" - Read - Default value. Opens a file for reading, it returns an error if the file does not exist\n",
    "- \"a\" - Append - Opens a file for appending, creates the file if it does not exist\n",
    "- \"w\" - Write - Opens a file for writing, creates the file if it does not exist\n",
    "- \"x\" - Create - Creates the specified file, returns an error if the file exists\n",
    "- \"t\" - Text - Default value. Text mode\n",
    "- \"b\" - Binary - Binary mode (e.g. images)"
   ]
  },
  {
   "cell_type": "markdown",
   "metadata": {},
   "source": [
    "### Opening Files for Reading\n",
    "\n",
    "The default mode of _open_ is reading, so we do not have to specify 'r' or 'rt'. I have created and saved a file named reading_file_example.txt in the files directory. Let us see how it is done:"
   ]
  },
  {
   "cell_type": "code",
   "execution_count": 11,
   "metadata": {},
   "outputs": [
    {
     "name": "stdout",
     "output_type": "stream",
     "text": [
      "<_io.TextIOWrapper name='files/reading_file_example.txt' mode='r' encoding='UTF-8'>\n"
     ]
    }
   ],
   "source": [
    "f = open('files/reading_file_example.txt')\n",
    "print(f) # <_io.TextIOWrapper name='./files/reading_file_example.txt' mode='r' encoding='UTF-8'>"
   ]
  },
  {
   "cell_type": "markdown",
   "metadata": {},
   "source": [
    "As you can see in the example above, I printed the opened file and it gave  some information about it. Opened file has different reading methods: _read()_, _readline_, _readlines_. An opened file has to be closed with _close()_ method.\n",
    "\n",
    "- _read()_: read the whole text as string. If we want to limit the number of characters we want to read, we can limit it by passing int value to the *read(number)* method."
   ]
  },
  {
   "cell_type": "code",
   "execution_count": 12,
   "metadata": {},
   "outputs": [
    {
     "name": "stdout",
     "output_type": "stream",
     "text": [
      "<class 'str'>\n",
      "This is an example to show how to open a file and read.\n",
      "This is the second line of the text.I love python\n"
     ]
    }
   ],
   "source": [
    "f = open('files/reading_file_example.txt')\n",
    "txt = f.read()\n",
    "print(type(txt))\n",
    "print(txt)\n",
    "f.close()"
   ]
  },
  {
   "cell_type": "markdown",
   "metadata": {},
   "source": [
    "\n",
    "Instead of printing all the text, let us print the first 10 characters of the text file."
   ]
  },
  {
   "cell_type": "code",
   "execution_count": 13,
   "metadata": {},
   "outputs": [
    {
     "name": "stdout",
     "output_type": "stream",
     "text": [
      "<class 'str'>\n",
      "This is an\n"
     ]
    }
   ],
   "source": [
    "f = open('files/reading_file_example.txt')\n",
    "txt = f.read(10)\n",
    "print(type(txt))\n",
    "print(txt)\n",
    "f.close()"
   ]
  },
  {
   "cell_type": "markdown",
   "metadata": {},
   "source": [
    "- _readline()_: read only the first line"
   ]
  },
  {
   "cell_type": "code",
   "execution_count": 15,
   "metadata": {},
   "outputs": [
    {
     "name": "stdout",
     "output_type": "stream",
     "text": [
      "<class 'str'>\n",
      "This is an example to show how to open a file and read.\n",
      "\n"
     ]
    }
   ],
   "source": [
    "f = open('./files/reading_file_example.txt')\n",
    "line = f.readline()\n",
    "print(type(line))\n",
    "print(line)\n",
    "f.close()"
   ]
  },
  {
   "cell_type": "markdown",
   "metadata": {},
   "source": [
    "- _readlines()_: read all the text line by line and returns a list of lines"
   ]
  },
  {
   "cell_type": "code",
   "execution_count": 16,
   "metadata": {},
   "outputs": [
    {
     "name": "stdout",
     "output_type": "stream",
     "text": [
      "<class 'list'>\n",
      "['This is an example to show how to open a file and read.\\n', 'This is the second line of the text.I love python']\n"
     ]
    }
   ],
   "source": [
    "f = open('./files/reading_file_example.txt')\n",
    "lines = f.readlines()\n",
    "print(type(lines))\n",
    "print(lines)\n",
    "f.close()"
   ]
  },
  {
   "cell_type": "markdown",
   "metadata": {},
   "source": [
    "Another way to get all the lines as a list is using _splitlines()_:"
   ]
  },
  {
   "cell_type": "code",
   "execution_count": 17,
   "metadata": {},
   "outputs": [
    {
     "name": "stdout",
     "output_type": "stream",
     "text": [
      "<class 'list'>\n",
      "['This is an example to show how to open a file and read.', 'This is the second line of the text.I love python']\n"
     ]
    }
   ],
   "source": [
    "f = open('./files/reading_file_example.txt')\n",
    "lines = f.read().splitlines()\n",
    "print(type(lines))\n",
    "print(lines)\n",
    "f.close()"
   ]
  },
  {
   "cell_type": "markdown",
   "metadata": {},
   "source": [
    "After we open a file, we should close it. There is a high tendency of forgetting to close them. There is a new way of opening files using _with_ - closes the files by itself. Let us rewrite the the previous example with the _with_ method:"
   ]
  },
  {
   "cell_type": "code",
   "execution_count": 18,
   "metadata": {},
   "outputs": [
    {
     "name": "stdout",
     "output_type": "stream",
     "text": [
      "<class 'list'>\n",
      "['This is an example to show how to open a file and read.', 'This is the second line of the text.I love python']\n"
     ]
    }
   ],
   "source": [
    "with open('./files/reading_file_example.txt') as f:\n",
    "    lines = f.read().splitlines()\n",
    "    print(type(lines))\n",
    "    print(lines)"
   ]
  },
  {
   "cell_type": "markdown",
   "metadata": {},
   "source": [
    "### Opening Files for Writing and Updating\n",
    "\n",
    "To write to an existing file, we must add a mode as parameter to the _open()_ function:\n",
    "\n",
    "- \"a\" - append - will append to the end of the file, if the file does not it creates a new file.\n",
    "- \"w\" - write - will overwrite any existing content, if the file does not exist it creates.\n",
    "\n",
    "Let us append some text to the file we have been reading:"
   ]
  },
  {
   "cell_type": "code",
   "execution_count": 19,
   "metadata": {},
   "outputs": [],
   "source": [
    "with open('./files/reading_file_example.txt','a') as f:\n",
    "    f.write('This text has to be appended at the end')"
   ]
  },
  {
   "cell_type": "markdown",
   "metadata": {},
   "source": [
    "The method below creates a new file, if the file does not exist:"
   ]
  },
  {
   "cell_type": "code",
   "execution_count": 20,
   "metadata": {},
   "outputs": [],
   "source": [
    "with open('./files/writing_file_example.txt','w') as f:\n",
    "    f.write('This text will be written in a newly created file')"
   ]
  },
  {
   "cell_type": "markdown",
   "metadata": {},
   "source": [
    "### Deleting Files\n",
    "\n",
    "We have seen in previous section, how to make and remove a directory using _os_ module. Again now, if we want to remove a file we use _os_ module."
   ]
  },
  {
   "cell_type": "code",
   "execution_count": 21,
   "metadata": {},
   "outputs": [],
   "source": [
    "import os\n",
    "os.remove('./files/example.txt')"
   ]
  },
  {
   "cell_type": "markdown",
   "metadata": {},
   "source": [
    "If the file does not exist, the remove method will raise an error, so it is good to use a condition like this:"
   ]
  },
  {
   "cell_type": "code",
   "execution_count": 22,
   "metadata": {},
   "outputs": [
    {
     "name": "stdout",
     "output_type": "stream",
     "text": [
      "The file does not exist\n"
     ]
    }
   ],
   "source": [
    "import os\n",
    "if os.path.exists('./files/example.txt'):\n",
    "    os.remove('./files/example.txt')\n",
    "else:\n",
    "    print('The file does not exist')"
   ]
  },
  {
   "cell_type": "markdown",
   "metadata": {},
   "source": [
    "## File Types\n",
    "\n",
    "### File with txt Extension\n",
    "\n",
    "File with _txt_ extension is a very common form of data and we have covered it in the previous section. Let us move to the JSON file\n",
    "\n",
    "### File with json Extension\n",
    "\n",
    "JSON stands for JavaScript Object Notation. Actually, it is a stringified JavaScript object or Python dictionary.\n",
    "\n",
    "_Example:_"
   ]
  },
  {
   "cell_type": "code",
   "execution_count": 23,
   "metadata": {},
   "outputs": [],
   "source": [
    "# dictionary\n",
    "person_dct= {\n",
    "    \"name\":\"Asabeneh\",\n",
    "    \"country\":\"Finland\",\n",
    "    \"city\":\"Helsinki\",\n",
    "    \"skills\":[\"JavaScrip\", \"React\",\"Python\"]\n",
    "}\n",
    "# JSON: A string form a dictionary\n",
    "person_json = \"{'name': 'Asabeneh', 'country': 'Finland', 'city': 'Helsinki', 'skills': ['JavaScrip', 'React', 'Python']}\"\n",
    "\n",
    "# we use three quotes and make it multiple line to make it more readable\n",
    "person_json = '''{\n",
    "    \"name\":\"Asabeneh\",\n",
    "    \"country\":\"Finland\",\n",
    "    \"city\":\"Helsinki\",\n",
    "    \"skills\":[\"JavaScrip\", \"React\",\"Python\"]\n",
    "}'''"
   ]
  },
  {
   "cell_type": "markdown",
   "metadata": {},
   "source": [
    "\n",
    "\n",
    "### Changing JSON to Dictionary\n",
    "\n",
    "To change a JSON to a dictionary, first we import the json module and then we use _loads_ method."
   ]
  },
  {
   "cell_type": "code",
   "execution_count": 25,
   "metadata": {},
   "outputs": [
    {
     "name": "stdout",
     "output_type": "stream",
     "text": [
      "<class 'dict'>\n",
      "{'name': 'Keith', 'country': 'Finland', 'city': 'Helsinki', 'skills': ['JavaScrip', 'React', 'Python']}\n",
      "Keith\n"
     ]
    }
   ],
   "source": [
    "import json\n",
    "# JSON\n",
    "person_json = '''{\n",
    "    \"name\": \"Keith\",\n",
    "    \"country\": \"Finland\",\n",
    "    \"city\": \"Helsinki\",\n",
    "    \"skills\": [\"JavaScrip\", \"React\", \"Python\"]\n",
    "}'''\n",
    "# let's change JSON to dictionary\n",
    "person_dct = json.loads(person_json)\n",
    "print(type(person_dct))\n",
    "print(person_dct)\n",
    "print(person_dct['name'])"
   ]
  },
  {
   "cell_type": "markdown",
   "metadata": {},
   "source": [
    "### Changing Dictionary to JSON\n",
    "\n",
    "To change a dictionary to a JSON we use _dumps_ method from the json module."
   ]
  },
  {
   "cell_type": "code",
   "execution_count": 26,
   "metadata": {},
   "outputs": [
    {
     "name": "stdout",
     "output_type": "stream",
     "text": [
      "<class 'str'>\n",
      "{\n",
      "    \"name\": \"Asabeneh\",\n",
      "    \"country\": \"Finland\",\n",
      "    \"city\": \"Helsinki\",\n",
      "    \"skills\": [\n",
      "        \"JavaScrip\",\n",
      "        \"React\",\n",
      "        \"Python\"\n",
      "    ]\n",
      "}\n"
     ]
    }
   ],
   "source": [
    "import json\n",
    "# python dictionary\n",
    "person = {\n",
    "    \"name\": \"Asabeneh\",\n",
    "    \"country\": \"Finland\",\n",
    "    \"city\": \"Helsinki\",\n",
    "    \"skills\": [\"JavaScrip\", \"React\", \"Python\"]\n",
    "}\n",
    "# let's convert it to  json\n",
    "person_json = json.dumps(person, indent=4) # indent could be 2, 4, 8. It beautifies the json\n",
    "print(type(person_json))\n",
    "print(person_json)"
   ]
  },
  {
   "cell_type": "markdown",
   "metadata": {},
   "source": [
    "### Saving as JSON File\n",
    "\n",
    "We can also save our data as a json file. Let us save it as a json file using the following steps. For writing a json file, we use the json.dump() method, it can take dictionary, output file, ensure_ascii and indent."
   ]
  },
  {
   "cell_type": "code",
   "execution_count": 27,
   "metadata": {},
   "outputs": [],
   "source": [
    "import json\n",
    "# python dictionary\n",
    "person = {\n",
    "    \"name\": \"Asabeneh\",\n",
    "    \"country\": \"Finland\",\n",
    "    \"city\": \"Helsinki\",\n",
    "    \"skills\": [\"JavaScrip\", \"React\", \"Python\"]\n",
    "}\n",
    "with open('./files/json_example.json', 'w', encoding='utf-8') as f:\n",
    "    json.dump(person, f, ensure_ascii=False, indent=4)"
   ]
  },
  {
   "cell_type": "markdown",
   "metadata": {},
   "source": [
    "\n",
    "\n",
    "In the code above, we use encoding and indentation. Indentation makes the json file easy to read.\n",
    "\n",
    "### File with csv Extension\n",
    "\n",
    "CSV stands for comma separated values. CSV is a simple file format used to store tabular data, such as a spreadsheet or database. CSV is a very common data format in data science.\n",
    "\n",
    "**Example:**\n",
    "\n",
    "```csv\n",
    "\"name\",\"country\",\"city\",\"skills\"\n",
    "\"Asabeneh\",\"Finland\",\"Helsinki\",\"JavaScript\"\n",
    "```"
   ]
  },
  {
   "cell_type": "code",
   "execution_count": 28,
   "metadata": {},
   "outputs": [
    {
     "name": "stdout",
     "output_type": "stream",
     "text": [
      "Column names are :name, country, city, skills\n",
      "\tAsabeneh is a teachers. He lives in Finland, Helsinki.\n",
      "Number of lines:  2\n"
     ]
    }
   ],
   "source": [
    "import csv\n",
    "with open('./files/csv_example.csv') as f:\n",
    "    csv_reader = csv.reader(f, delimiter=',') # w use, reader method to read csv\n",
    "    line_count = 0\n",
    "    for row in csv_reader:\n",
    "        if line_count == 0:\n",
    "            print(f'Column names are :{\", \".join(row)}')\n",
    "            line_count += 1\n",
    "        else:\n",
    "            print(\n",
    "                f'\\t{row[0]} is a teachers. He lives in {row[1]}, {row[2]}.')\n",
    "            line_count += 1\n",
    "    print(f'Number of lines:  {line_count}')"
   ]
  },
  {
   "cell_type": "markdown",
   "metadata": {},
   "source": [
    "### File with xlsx Extension\n",
    "\n",
    "To read excel files we need to install _openpyxl_ package. We will cover this after we cover package installing using pip."
   ]
  },
  {
   "cell_type": "raw",
   "metadata": {
    "vscode": {
     "languageId": "raw"
    }
   },
   "source": [
    "pip install openpyxl"
   ]
  },
  {
   "cell_type": "code",
   "execution_count": 10,
   "metadata": {},
   "outputs": [
    {
     "data": {
      "text/plain": [
       "'name'"
      ]
     },
     "execution_count": 10,
     "metadata": {},
     "output_type": "execute_result"
    }
   ],
   "source": [
    "from openpyxl import load_workbook\n",
    "wb = load_workbook(filename = 'files/excel_example.xlsx')\n",
    "wb.sheetnames\n",
    "sheet_ranges = wb['Transformed by JSON-CSV.COM'] \n",
    "sheet_ranges['A1'].value"
   ]
  },
  {
   "cell_type": "markdown",
   "metadata": {},
   "source": [
    "### File with xml Extension\n",
    "\n",
    "XML is another structured data format which looks like HTML. In XML the tags are not predefined. The first line is an XML declaration. The person tag is the root of the XML. The person has a gender attribute.\n",
    "**Example:XML**\n",
    "\n",
    "```xml\n",
    "<?xml version=\"1.0\"?>\n",
    "<person gender=\"female\">\n",
    "  <name>Asabeneh</name>\n",
    "  <country>Finland</country>\n",
    "  <city>Helsinki</city>\n",
    "  <skills>\n",
    "    <skill>JavaScrip</skill>\n",
    "    <skill>React</skill>\n",
    "    <skill>Python</skill>\n",
    "  </skills>\n",
    "</person>\n",
    "```\n",
    "\n",
    "For more information on how to read an XML file check the [documentation](https://docs.python.org/2/library/xml.etree.elementtree.html)"
   ]
  },
  {
   "cell_type": "code",
   "execution_count": 31,
   "metadata": {},
   "outputs": [
    {
     "name": "stdout",
     "output_type": "stream",
     "text": [
      "Root tag: person\n",
      "Attribute: {'gender': 'male'}\n",
      "field:  name\n",
      "field:  country\n",
      "field:  city\n",
      "field:  skills\n"
     ]
    }
   ],
   "source": [
    "import xml.etree.ElementTree as ET\n",
    "tree = ET.parse('./files/xml_example.xml')\n",
    "root = tree.getroot()\n",
    "print('Root tag:', root.tag)\n",
    "print('Attribute:', root.attrib)\n",
    "for child in root:\n",
    "    print('field: ', child.tag)"
   ]
  }
 ],
 "metadata": {
  "kernelspec": {
   "display_name": "base",
   "language": "python",
   "name": "python3"
  },
  "language_info": {
   "codemirror_mode": {
    "name": "ipython",
    "version": 3
   },
   "file_extension": ".py",
   "mimetype": "text/x-python",
   "name": "python",
   "nbconvert_exporter": "python",
   "pygments_lexer": "ipython3",
   "version": "3.11.5"
  }
 },
 "nbformat": 4,
 "nbformat_minor": 2
}
