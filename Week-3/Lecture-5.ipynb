{
 "cells": [
  {
   "cell_type": "markdown",
   "metadata": {},
   "source": [
    "# Week 3 - Lecture 5\n",
    "\n",
    "**KF Python Course**\n",
    "\n",
    "*February 18, 2025*\n",
    "___"
   ]
  },
  {
   "cell_type": "markdown",
   "metadata": {},
   "source": [
    "## Git Repository Update\n",
    "\n",
    "Clone the repository, the repository is update every week"
   ]
  },
  {
   "cell_type": "raw",
   "metadata": {},
   "source": [
    "git stash\n",
    "git pull\n",
    "git stash pop"
   ]
  },
  {
   "cell_type": "markdown",
   "metadata": {},
   "source": [
    "## Sets\n",
    "\n",
    "Set is a collection of items. Let me take you back to your elementary or high school Mathematics lesson. The Mathematics definition of a set can be applied also in Python. Set is a collection of unordered and un-indexed distinct elements. In Python set is used to store unique items, and it is possible to find the _union_, _intersection_, _difference_, _symmetric difference_, _subset_, _super set_ and _disjoint set_ among sets.\n",
    "\n",
    "### Creating a Set\n",
    "\n",
    "We use the _set()_ built-in function."
   ]
  },
  {
   "cell_type": "code",
   "execution_count": null,
   "metadata": {},
   "outputs": [],
   "source": [
    "# syntax\n",
    "st = set()"
   ]
  },
  {
   "cell_type": "markdown",
   "metadata": {},
   "source": [
    "- Creating a set with initial items"
   ]
  },
  {
   "cell_type": "code",
   "execution_count": null,
   "metadata": {},
   "outputs": [],
   "source": [
    "# syntax\n",
    "st = {'item1', 'item2', 'item3', 'item4'}"
   ]
  },
  {
   "cell_type": "markdown",
   "metadata": {},
   "source": [
    "\n",
    "**Example:**"
   ]
  },
  {
   "cell_type": "code",
   "execution_count": null,
   "metadata": {},
   "outputs": [],
   "source": [
    "# syntax\n",
    "fruits = {'banana', 'orange', 'mango', 'lemon'}"
   ]
  },
  {
   "cell_type": "markdown",
   "metadata": {},
   "source": [
    "\n",
    "### Getting Set's Length\n",
    "\n",
    "We use **len()** method to find the length of a set."
   ]
  },
  {
   "cell_type": "code",
   "execution_count": 1,
   "metadata": {},
   "outputs": [
    {
     "data": {
      "text/plain": [
       "4"
      ]
     },
     "execution_count": 1,
     "metadata": {},
     "output_type": "execute_result"
    }
   ],
   "source": [
    "# syntax\n",
    "st = {'item1', 'item2', 'item3', 'item4'}\n",
    "len(st)"
   ]
  },
  {
   "cell_type": "markdown",
   "metadata": {},
   "source": [
    "**Example:**"
   ]
  },
  {
   "cell_type": "code",
   "execution_count": 3,
   "metadata": {},
   "outputs": [
    {
     "data": {
      "text/plain": [
       "4"
      ]
     },
     "execution_count": 3,
     "metadata": {},
     "output_type": "execute_result"
    }
   ],
   "source": [
    "fruits = {'banana', 'orange', 'mango', 'lemon'}\n",
    "len(fruits)"
   ]
  },
  {
   "cell_type": "markdown",
   "metadata": {},
   "source": [
    "### Accessing Items in a Set\n",
    "\n",
    "We use loops to access items. We will see this in loop section\n",
    "\n",
    "### Checking an Item\n",
    "\n",
    "To check if an item exist in a list we use _in_ membership operator."
   ]
  },
  {
   "cell_type": "code",
   "execution_count": 4,
   "metadata": {},
   "outputs": [
    {
     "name": "stdout",
     "output_type": "stream",
     "text": [
      "Does set st contain item3?  True\n"
     ]
    }
   ],
   "source": [
    "# syntax\n",
    "st = {'item1', 'item2', 'item3', 'item4'}\n",
    "print(\"Does set st contain item3? \", 'item3' in st) # Does set st contain item3? True\n"
   ]
  },
  {
   "cell_type": "markdown",
   "metadata": {},
   "source": [
    "**Example:**"
   ]
  },
  {
   "cell_type": "code",
   "execution_count": 5,
   "metadata": {},
   "outputs": [
    {
     "name": "stdout",
     "output_type": "stream",
     "text": [
      "True\n"
     ]
    }
   ],
   "source": [
    "fruits = {'banana', 'orange', 'mango', 'lemon'}\n",
    "print('mango' in fruits ) # True"
   ]
  },
  {
   "cell_type": "markdown",
   "metadata": {},
   "source": [
    "\n",
    "### Adding Items to a Set\n",
    "\n",
    "Once a set is created we cannot change any items and we can also add additional items.\n",
    "\n",
    "- Add one item using _add()_"
   ]
  },
  {
   "cell_type": "code",
   "execution_count": 6,
   "metadata": {},
   "outputs": [],
   "source": [
    "# syntax\n",
    "st = {'item1', 'item2', 'item3', 'item4'}\n",
    "st.add('item5')"
   ]
  },
  {
   "cell_type": "markdown",
   "metadata": {},
   "source": [
    "**Example:**"
   ]
  },
  {
   "cell_type": "code",
   "execution_count": 7,
   "metadata": {},
   "outputs": [],
   "source": [
    "fruits = {'banana', 'orange', 'mango', 'lemon'}\n",
    "fruits.add('lime')"
   ]
  },
  {
   "cell_type": "markdown",
   "metadata": {},
   "source": [
    "- Add multiple items using _update()_\n",
    "  The _update()_ allows to add multiple items to a set. The _update()_ takes a list argument.\n"
   ]
  },
  {
   "cell_type": "code",
   "execution_count": 8,
   "metadata": {},
   "outputs": [],
   "source": [
    "# syntax\n",
    "st = {'item1', 'item2', 'item3', 'item4'}\n",
    "st.update(['item5','item6','item7'])"
   ]
  },
  {
   "cell_type": "markdown",
   "metadata": {},
   "source": [
    "**Example:**"
   ]
  },
  {
   "cell_type": "code",
   "execution_count": 9,
   "metadata": {},
   "outputs": [],
   "source": [
    "fruits = {'banana', 'orange', 'mango', 'lemon'}\n",
    "vegetables = ('tomato', 'potato', 'cabbage','onion', 'carrot')\n",
    "fruits.update(vegetables)"
   ]
  },
  {
   "cell_type": "markdown",
   "metadata": {},
   "source": [
    "### Removing Items from a Set"
   ]
  },
  {
   "cell_type": "markdown",
   "metadata": {},
   "source": [
    "We can remove an item from a set using _remove()_ method. If the item is not found _remove()_ method will raise errors, so it is good to check if the item exist in the given set. However, _discard()_ method doesn't raise any errors.\n"
   ]
  },
  {
   "cell_type": "code",
   "execution_count": 10,
   "metadata": {},
   "outputs": [],
   "source": [
    "# syntax\n",
    "st = {'item1', 'item2', 'item3', 'item4'}\n",
    "st.remove('item2')"
   ]
  },
  {
   "cell_type": "markdown",
   "metadata": {},
   "source": [
    "The pop() methods remove a random item from a list and it returns the removed item.\n",
    "\n",
    "**Example:**"
   ]
  },
  {
   "cell_type": "code",
   "execution_count": 11,
   "metadata": {},
   "outputs": [
    {
     "data": {
      "text/plain": [
       "'orange'"
      ]
     },
     "execution_count": 11,
     "metadata": {},
     "output_type": "execute_result"
    }
   ],
   "source": [
    "fruits = {'banana', 'orange', 'mango', 'lemon'}\n",
    "fruits.pop()  # removes a random item from the set"
   ]
  },
  {
   "cell_type": "markdown",
   "metadata": {},
   "source": [
    "If we are interested in the removed item.\n"
   ]
  },
  {
   "cell_type": "code",
   "execution_count": 12,
   "metadata": {},
   "outputs": [],
   "source": [
    "fruits = {'banana', 'orange', 'mango', 'lemon'}\n",
    "removed_item = fruits.pop() "
   ]
  },
  {
   "cell_type": "markdown",
   "metadata": {},
   "source": [
    "### Clearing Items in a Set\n",
    "\n",
    "If we want to clear or empty the set we use _clear_ method."
   ]
  },
  {
   "cell_type": "code",
   "execution_count": 13,
   "metadata": {},
   "outputs": [],
   "source": [
    "# syntax\n",
    "st = {'item1', 'item2', 'item3', 'item4'}\n",
    "st.clear()"
   ]
  },
  {
   "cell_type": "markdown",
   "metadata": {},
   "source": [
    "**Example:**"
   ]
  },
  {
   "cell_type": "code",
   "execution_count": 14,
   "metadata": {},
   "outputs": [
    {
     "name": "stdout",
     "output_type": "stream",
     "text": [
      "set()\n"
     ]
    }
   ],
   "source": [
    "fruits = {'banana', 'orange', 'mango', 'lemon'}\n",
    "fruits.clear()\n",
    "print(fruits) # set()"
   ]
  },
  {
   "cell_type": "markdown",
   "metadata": {},
   "source": [
    "### Deleting a Set\n",
    "\n",
    "If we want to delete the set itself we use _del_ operator."
   ]
  },
  {
   "cell_type": "code",
   "execution_count": 15,
   "metadata": {},
   "outputs": [],
   "source": [
    "# syntax\n",
    "st = {'item1', 'item2', 'item3', 'item4'}\n",
    "del st"
   ]
  },
  {
   "cell_type": "markdown",
   "metadata": {},
   "source": [
    "**Example:**\n"
   ]
  },
  {
   "cell_type": "code",
   "execution_count": 16,
   "metadata": {},
   "outputs": [],
   "source": [
    "fruits = {'banana', 'orange', 'mango', 'lemon'}\n",
    "del fruits"
   ]
  },
  {
   "cell_type": "markdown",
   "metadata": {},
   "source": [
    "\n",
    "### Converting List to Set\n",
    "\n",
    "We can convert list to set and set to list. Converting list to set removes duplicates and only unique items will be reserved.\n"
   ]
  },
  {
   "cell_type": "code",
   "execution_count": 17,
   "metadata": {},
   "outputs": [],
   "source": [
    "\n",
    "# syntax\n",
    "lst = ['item1', 'item2', 'item3', 'item4', 'item1']\n",
    "st = set(lst)  # {'item2', 'item4', 'item1', 'item3'} - the order is random, because sets in general are unordered"
   ]
  },
  {
   "cell_type": "markdown",
   "metadata": {},
   "source": [
    "**Example:**"
   ]
  },
  {
   "cell_type": "code",
   "execution_count": 18,
   "metadata": {},
   "outputs": [],
   "source": [
    "fruits = ['banana', 'orange', 'mango', 'lemon','orange', 'banana']\n",
    "fruits = set(fruits) # {'mango', 'lemon', 'banana', 'orange'}"
   ]
  },
  {
   "cell_type": "markdown",
   "metadata": {},
   "source": [
    "## Set Operations\n",
    "\n",
    "![List index](https://www.learnbyexample.org/wp-content/uploads/python/Python-Set-Operatioons.png)  "
   ]
  },
  {
   "cell_type": "code",
   "execution_count": 19,
   "metadata": {},
   "outputs": [],
   "source": [
    "A = {1, 2, 4, 6, 8}\n",
    "B = {1, 2, 3, 4, 5}"
   ]
  },
  {
   "cell_type": "markdown",
   "metadata": {},
   "source": [
    "![image.png](https://learnpython.com/blog/python-sets/sets.png)"
   ]
  },
  {
   "cell_type": "markdown",
   "metadata": {},
   "source": [
    "### Joining Sets\n",
    "\n",
    "We can join two sets using the _union()_ or _update()_ method.\n",
    "\n",
    "- Union\n",
    "  This method returns a new set\n",
    "\n"
   ]
  },
  {
   "cell_type": "code",
   "execution_count": null,
   "metadata": {},
   "outputs": [],
   "source": [
    "# syntax\n",
    "st1 = {'item1', 'item2', 'item3', 'item4'}\n",
    "st2 = {'item5', 'item6', 'item7', 'item8'}\n",
    "st3 = st1.union(st2)"
   ]
  },
  {
   "cell_type": "markdown",
   "metadata": {},
   "source": [
    "![image.png](https://learnpython.com/blog/python-sets/set_union.png)"
   ]
  },
  {
   "cell_type": "code",
   "execution_count": 20,
   "metadata": {},
   "outputs": [
    {
     "name": "stdout",
     "output_type": "stream",
     "text": [
      "{1, 2, 3, 4, 5, 6, 8}\n",
      "{1, 2, 3, 4, 5, 6, 8}\n"
     ]
    }
   ],
   "source": [
    "A = {1, 2, 4, 6, 8}\n",
    "B = {1, 2, 3, 4, 5}\n",
    " \n",
    "# Set union using .union()\n",
    "print(A.union(B))\n",
    " \n",
    "# Set union using the | operator\n",
    "print(A | B)\n",
    " \n",
    "# Output:\n",
    "# {1, 2, 3, 4, 5, 6, 8}"
   ]
  },
  {
   "cell_type": "markdown",
   "metadata": {},
   "source": [
    "- Update\n",
    "  This method inserts a set into a given set"
   ]
  },
  {
   "cell_type": "code",
   "execution_count": 21,
   "metadata": {},
   "outputs": [],
   "source": [
    "# syntax\n",
    "st1 = {'item1', 'item2', 'item3', 'item4'}\n",
    "st2 = {'item5', 'item6', 'item7', 'item8'}\n",
    "st1.update(st2) # st2 contents are added to st1"
   ]
  },
  {
   "cell_type": "markdown",
   "metadata": {},
   "source": [
    "**Example:**"
   ]
  },
  {
   "cell_type": "code",
   "execution_count": 22,
   "metadata": {},
   "outputs": [
    {
     "name": "stdout",
     "output_type": "stream",
     "text": [
      "{'lemon', 'banana', 'potato', 'onion', 'orange', 'carrot', 'mango', 'tomato', 'cabbage'}\n"
     ]
    }
   ],
   "source": [
    "fruits = {'banana', 'orange', 'mango', 'lemon'}\n",
    "vegetables = {'tomato', 'potato', 'cabbage','onion', 'carrot'}\n",
    "fruits.update(vegetables)\n",
    "print(fruits) # {'lemon', 'carrot', 'tomato', 'banana', 'mango', 'orange', 'cabbage', 'potato', 'onion'}\n"
   ]
  },
  {
   "cell_type": "markdown",
   "metadata": {},
   "source": [
    "\n",
    "### Finding Intersection Items\n",
    "\n",
    "Intersection returns a set of items which are in both the sets. See the example"
   ]
  },
  {
   "cell_type": "code",
   "execution_count": 23,
   "metadata": {},
   "outputs": [
    {
     "data": {
      "text/plain": [
       "{'item2', 'item3'}"
      ]
     },
     "execution_count": 23,
     "metadata": {},
     "output_type": "execute_result"
    }
   ],
   "source": [
    "# syntax\n",
    "st1 = {'item1', 'item2', 'item3', 'item4'}\n",
    "st2 = {'item3', 'item2'}\n",
    "st1.intersection(st2) # {'item3', 'item2'}"
   ]
  },
  {
   "cell_type": "markdown",
   "metadata": {},
   "source": [
    "![image.png](https://learnpython.com/blog/python-sets/set_intersection.png)"
   ]
  },
  {
   "cell_type": "code",
   "execution_count": 27,
   "metadata": {},
   "outputs": [
    {
     "name": "stdout",
     "output_type": "stream",
     "text": [
      "{1, 2, 4}\n",
      "{1, 2, 4}\n"
     ]
    }
   ],
   "source": [
    "A = {1, 2, 4, 6, 8}\n",
    "B = {1, 2, 3, 4, 5}\n",
    " \n",
    "# Use the method\n",
    "print(A.intersection(B))\n",
    " \n",
    "# Use the & operator\n",
    "print(A & B)\n",
    " \n",
    "# Output:\n",
    "# {1, 2, 4}"
   ]
  },
  {
   "cell_type": "markdown",
   "metadata": {},
   "source": [
    "**Example:**"
   ]
  },
  {
   "cell_type": "code",
   "execution_count": 24,
   "metadata": {},
   "outputs": [
    {
     "data": {
      "text/plain": [
       "{'n', 'o'}"
      ]
     },
     "execution_count": 24,
     "metadata": {},
     "output_type": "execute_result"
    }
   ],
   "source": [
    "whole_numbers = {0, 1, 2, 3, 4, 5, 6, 7, 8, 9, 10}\n",
    "even_numbers = {0, 2, 4, 6, 8, 10}\n",
    "whole_numbers.intersection(even_numbers) # {0, 2, 4, 6, 8, 10}\n",
    "\n",
    "python = {'p', 'y', 't', 'h', 'o','n'}\n",
    "dragon = {'d', 'r', 'a', 'g', 'o','n'}\n",
    "python.intersection(dragon)     # {'o', 'n'}"
   ]
  },
  {
   "cell_type": "markdown",
   "metadata": {},
   "source": [
    "### Checking Subset and Super Set\n",
    "\n",
    "A set can be a subset or super set of other sets:\n",
    "\n",
    "- Subset: _issubset()_\n",
    "- Super set: _issuperset_"
   ]
  },
  {
   "cell_type": "code",
   "execution_count": 25,
   "metadata": {},
   "outputs": [
    {
     "data": {
      "text/plain": [
       "True"
      ]
     },
     "execution_count": 25,
     "metadata": {},
     "output_type": "execute_result"
    }
   ],
   "source": [
    "# syntax\n",
    "st1 = {'item1', 'item2', 'item3', 'item4'}\n",
    "st2 = {'item2', 'item3'}\n",
    "st2.issubset(st1) # True\n",
    "st1.issuperset(st2) # True"
   ]
  },
  {
   "cell_type": "markdown",
   "metadata": {},
   "source": [
    "![image.png](https://learnpython.com/blog/python-sets/superset_subset.png)"
   ]
  },
  {
   "cell_type": "code",
   "execution_count": 26,
   "metadata": {},
   "outputs": [
    {
     "name": "stdout",
     "output_type": "stream",
     "text": [
      "True\n",
      "True\n"
     ]
    }
   ],
   "source": [
    "A = {1, 2, 3, 4, 5}\n",
    "B = {1, 2, 4}\n",
    " \n",
    "print(A.issuperset(B))\n",
    "# Output: True\n",
    " \n",
    "print(B.issubset(A))\n",
    "# Output: True"
   ]
  },
  {
   "cell_type": "markdown",
   "metadata": {},
   "source": [
    "\n",
    "**Example:**"
   ]
  },
  {
   "cell_type": "code",
   "execution_count": null,
   "metadata": {},
   "outputs": [],
   "source": [
    "whole_numbers = {0, 1, 2, 3, 4, 5, 6, 7, 8, 9, 10}\n",
    "even_numbers = {0, 2, 4, 6, 8, 10}\n",
    "whole_numbers.issubset(even_numbers) # False, because it is a super set\n",
    "whole_numbers.issuperset(even_numbers) # True\n",
    "\n",
    "python = {'p', 'y', 't', 'h', 'o','n'}\n",
    "dragon = {'d', 'r', 'a', 'g', 'o','n'}\n",
    "python.issubset(dragon)     # False"
   ]
  },
  {
   "cell_type": "markdown",
   "metadata": {},
   "source": [
    "### Checking the Difference Between Two Sets\n",
    "\n",
    "It returns the difference between two sets."
   ]
  },
  {
   "cell_type": "code",
   "execution_count": 28,
   "metadata": {},
   "outputs": [
    {
     "data": {
      "text/plain": [
       "{'item1', 'item4'}"
      ]
     },
     "execution_count": 28,
     "metadata": {},
     "output_type": "execute_result"
    }
   ],
   "source": [
    "# syntax\n",
    "st1 = {'item1', 'item2', 'item3', 'item4'}\n",
    "st2 = {'item2', 'item3'}\n",
    "st2.difference(st1) # set()\n",
    "st1.difference(st2) # {'item1', 'item4'} => st1\\st2"
   ]
  },
  {
   "cell_type": "markdown",
   "metadata": {},
   "source": [
    "Difference of set A with respect to set B (left figure, shaded area), and set B with respect to set A (right figure, shaded area), represented on a Venn diagram.\n",
    "![image.png](https://learnpython.com/blog/python-sets/set_difference.png)"
   ]
  },
  {
   "cell_type": "code",
   "execution_count": 29,
   "metadata": {},
   "outputs": [
    {
     "name": "stdout",
     "output_type": "stream",
     "text": [
      "{3, 5}\n",
      "{3, 5}\n"
     ]
    }
   ],
   "source": [
    "A = {1, 2, 4, 6, 8}\n",
    "B = {1, 2, 3, 4, 5}\n",
    " \n",
    "# Use the method\n",
    "print(B.difference(A))\n",
    " \n",
    "# Use the - operator\n",
    "print(B - A)\n",
    " \n",
    "# Output:\n",
    "# {3, 5}"
   ]
  },
  {
   "cell_type": "markdown",
   "metadata": {},
   "source": [
    "**Example:**"
   ]
  },
  {
   "cell_type": "code",
   "execution_count": 30,
   "metadata": {},
   "outputs": [
    {
     "data": {
      "text/plain": [
       "{'a', 'd', 'g', 'r'}"
      ]
     },
     "execution_count": 30,
     "metadata": {},
     "output_type": "execute_result"
    }
   ],
   "source": [
    "whole_numbers = {0, 1, 2, 3, 4, 5, 6, 7, 8, 9, 10}\n",
    "even_numbers = {0, 2, 4, 6, 8, 10}\n",
    "whole_numbers.difference(even_numbers) # {1, 3, 5, 7, 9}\n",
    "\n",
    "python = {'p', 'y', 't', 'o','n'}\n",
    "dragon = {'d', 'r', 'a', 'g', 'o','n'}\n",
    "python.difference(dragon)     # {'p', 'y', 't'}  - the result is unordered (characteristic of sets)\n",
    "dragon.difference(python)     # {'d', 'r', 'a', 'g'}"
   ]
  },
  {
   "cell_type": "markdown",
   "metadata": {},
   "source": [
    "### Finding Symmetric Difference Between Two Sets\n",
    "\n",
    "It returns the symmetric difference between two sets. It means that it returns a set that contains all items from both sets, except items that are present in both sets, mathematically: (A\\B) ∪ (B\\A)\n"
   ]
  },
  {
   "cell_type": "code",
   "execution_count": 31,
   "metadata": {},
   "outputs": [
    {
     "data": {
      "text/plain": [
       "{'item1', 'item4'}"
      ]
     },
     "execution_count": 31,
     "metadata": {},
     "output_type": "execute_result"
    }
   ],
   "source": [
    "# syntax\n",
    "st1 = {'item1', 'item2', 'item3', 'item4'}\n",
    "st2 = {'item2', 'item3'}\n",
    "# it means (A\\B)∪(B\\A)\n",
    "st2.symmetric_difference(st1) # {'item1', 'item4'}"
   ]
  },
  {
   "cell_type": "markdown",
   "metadata": {},
   "source": [
    "Symmetric difference (shaded area) of sets A and B, represented on a Venn diagram.\n",
    "\n",
    "![image.png](https://learnpython.com/blog/python-sets/set_symmetric_difference.png)"
   ]
  },
  {
   "cell_type": "code",
   "execution_count": 32,
   "metadata": {},
   "outputs": [
    {
     "name": "stdout",
     "output_type": "stream",
     "text": [
      "{3, 5, 6, 8}\n"
     ]
    }
   ],
   "source": [
    "A = {1, 2, 4, 6, 8}\n",
    "B = {1, 2, 3, 4, 5}\n",
    " \n",
    "print(A.symmetric_difference(B))\n",
    " \n",
    "# Output:\n",
    "# {3, 5, 6, 8}"
   ]
  },
  {
   "cell_type": "markdown",
   "metadata": {},
   "source": [
    "**Example:**"
   ]
  },
  {
   "cell_type": "code",
   "execution_count": 33,
   "metadata": {},
   "outputs": [
    {
     "data": {
      "text/plain": [
       "{'a', 'd', 'g', 'h', 'p', 'r', 't', 'y'}"
      ]
     },
     "execution_count": 33,
     "metadata": {},
     "output_type": "execute_result"
    }
   ],
   "source": [
    "whole_numbers = {0, 1, 2, 3, 4, 5, 6, 7, 8, 9, 10}\n",
    "some_numbers = {1, 2, 3, 4, 5}\n",
    "whole_numbers.symmetric_difference(some_numbers) # {0, 6, 7, 8, 9, 10}\n",
    "\n",
    "python = {'p', 'y', 't', 'h', 'o','n'}\n",
    "dragon = {'d', 'r', 'a', 'g', 'o','n'}\n",
    "python.symmetric_difference(dragon)  # {'r', 't', 'p', 'y', 'g', 'a', 'd', 'h'}\n"
   ]
  },
  {
   "cell_type": "markdown",
   "metadata": {},
   "source": [
    "### Joining Sets\n",
    "\n",
    "If two sets do not have a common item or items we call them disjoint sets. We can check if two sets are joint or disjoint using _isdisjoint()_ method.\n"
   ]
  },
  {
   "cell_type": "code",
   "execution_count": 34,
   "metadata": {},
   "outputs": [
    {
     "data": {
      "text/plain": [
       "False"
      ]
     },
     "execution_count": 34,
     "metadata": {},
     "output_type": "execute_result"
    }
   ],
   "source": [
    "# syntax\n",
    "st1 = {'item1', 'item2', 'item3', 'item4'}\n",
    "st2 = {'item2', 'item3'}\n",
    "st2.isdisjoint(st1) # False"
   ]
  },
  {
   "cell_type": "markdown",
   "metadata": {},
   "source": [
    "![image.png](https://www.math-only-math.com/images/disjoint-of-sets-using-Venn-diagram.png)"
   ]
  },
  {
   "cell_type": "markdown",
   "metadata": {},
   "source": [
    "\n",
    "**Example:**"
   ]
  },
  {
   "cell_type": "code",
   "execution_count": 35,
   "metadata": {},
   "outputs": [
    {
     "data": {
      "text/plain": [
       "False"
      ]
     },
     "execution_count": 35,
     "metadata": {},
     "output_type": "execute_result"
    }
   ],
   "source": [
    "even_numbers = {0, 2, 4 ,6, 8}\n",
    "odd_numbers = {1, 3, 5, 7, 9}\n",
    "even_numbers.isdisjoint(odd_numbers) # True, because no common item\n",
    "\n",
    "python = {'p', 'y', 't', 'h', 'o','n'}\n",
    "dragon = {'d', 'r', 'a', 'g', 'o','n'}\n",
    "python.isdisjoint(dragon)  # False, there are common items {'o', 'n'}"
   ]
  },
  {
   "cell_type": "markdown",
   "metadata": {},
   "source": [
    "\n",
    "## Dictionaries\n",
    "\n",
    "A dictionary is a collection of unordered, modifiable(mutable) paired (key: value) data type.\n",
    "\n",
    "### Creating a Dictionary\n",
    "\n",
    "To create a dictionary we use curly brackets, {} or the *dict()* built-in function.\n"
   ]
  },
  {
   "cell_type": "code",
   "execution_count": 36,
   "metadata": {},
   "outputs": [],
   "source": [
    "# syntax\n",
    "empty_dict = {}\n",
    "# Dictionary with data values\n",
    "dct = {'key1':'value1', 'key2':'value2', 'key3':'value3', 'key4':'value4'}\n"
   ]
  },
  {
   "cell_type": "markdown",
   "metadata": {},
   "source": [
    "**Example:**"
   ]
  },
  {
   "cell_type": "code",
   "execution_count": null,
   "metadata": {},
   "outputs": [],
   "source": [
    "person = {\n",
    "    'first_name':'Francesca',\n",
    "    'last_name':'Carrey',\n",
    "    'age':27,\n",
    "    'country':'Finland',\n",
    "    'is_marred':True,\n",
    "    'skills':['JavaScript', 'React', 'Node', 'MongoDB', 'Python'],\n",
    "    'address':{\n",
    "        'street':'Space street',\n",
    "        'zipcode':'02210'\n",
    "    }\n",
    "    }"
   ]
  },
  {
   "cell_type": "markdown",
   "metadata": {},
   "source": [
    "The dictionary can be shown like this.\n",
    "\n",
    "![image.png](https://raw.githubusercontent.com/kushnertodd/CFTM-intro-to-python/af686fa42bcc496cc70d56ba96b61afb75960a77/notebooks/dict1.jpg)"
   ]
  },
  {
   "cell_type": "markdown",
   "metadata": {},
   "source": [
    "The dictionary above shows that a value could be any data types:string, boolean, list, tuple, set or a dictionary.\n",
    "\n",
    "### Dictionary Length\n",
    "\n",
    "It checks the number of 'key: value' pairs in the dictionary."
   ]
  },
  {
   "cell_type": "code",
   "execution_count": 37,
   "metadata": {},
   "outputs": [
    {
     "name": "stdout",
     "output_type": "stream",
     "text": [
      "4\n"
     ]
    }
   ],
   "source": [
    "# syntax\n",
    "dct = {'key1':'value1', 'key2':'value2', 'key3':'value3', 'key4':'value4'}\n",
    "print(len(dct)) # 4"
   ]
  },
  {
   "cell_type": "markdown",
   "metadata": {},
   "source": [
    "**Example:**"
   ]
  },
  {
   "cell_type": "code",
   "execution_count": 42,
   "metadata": {},
   "outputs": [
    {
     "name": "stdout",
     "output_type": "stream",
     "text": [
      "7\n"
     ]
    }
   ],
   "source": [
    "person = {\n",
    "    'first_name':'Francesca',\n",
    "    'last_name':'Carrey',\n",
    "    'age':27,\n",
    "    'country':'Finland',\n",
    "    'is_marred':True,\n",
    "    'skills':['JavaScript', 'React', 'Node', 'MongoDB', 'Python'],\n",
    "    'address':{\n",
    "        'street':'Space street',\n",
    "        'zipcode':'02210'\n",
    "    }\n",
    "    }\n",
    "print(len(person)) # 7"
   ]
  },
  {
   "cell_type": "markdown",
   "metadata": {},
   "source": [
    "### Accessing Dictionary Items\n",
    "\n",
    "We can access Dictionary items by referring to its key name."
   ]
  },
  {
   "cell_type": "code",
   "execution_count": 39,
   "metadata": {},
   "outputs": [
    {
     "name": "stdout",
     "output_type": "stream",
     "text": [
      "value1\n",
      "value4\n"
     ]
    }
   ],
   "source": [
    "# syntax\n",
    "dct = {'key1':'value1', 'key2':'value2', 'key3':'value3', 'key4':'value4'}\n",
    "print(dct['key1']) # value1\n",
    "print(dct['key4']) # value4"
   ]
  },
  {
   "cell_type": "markdown",
   "metadata": {},
   "source": [
    "**Example:**"
   ]
  },
  {
   "cell_type": "code",
   "execution_count": 43,
   "metadata": {},
   "outputs": [
    {
     "name": "stdout",
     "output_type": "stream",
     "text": [
      "Francesca\n",
      "Finland\n",
      "['JavaScript', 'React', 'Node', 'MongoDB', 'Python']\n",
      "JavaScript\n",
      "Space street\n"
     ]
    },
    {
     "ename": "KeyError",
     "evalue": "'city'",
     "output_type": "error",
     "traceback": [
      "\u001b[0;31m---------------------------------------------------------------------------\u001b[0m",
      "\u001b[0;31mKeyError\u001b[0m                                  Traceback (most recent call last)",
      "Cell \u001b[0;32mIn[43], line 18\u001b[0m\n\u001b[1;32m     16\u001b[0m \u001b[38;5;28mprint\u001b[39m(person[\u001b[38;5;124m'\u001b[39m\u001b[38;5;124mskills\u001b[39m\u001b[38;5;124m'\u001b[39m][\u001b[38;5;241m0\u001b[39m])  \u001b[38;5;66;03m# JavaScript\u001b[39;00m\n\u001b[1;32m     17\u001b[0m \u001b[38;5;28mprint\u001b[39m(person[\u001b[38;5;124m'\u001b[39m\u001b[38;5;124maddress\u001b[39m\u001b[38;5;124m'\u001b[39m][\u001b[38;5;124m'\u001b[39m\u001b[38;5;124mstreet\u001b[39m\u001b[38;5;124m'\u001b[39m]) \u001b[38;5;66;03m# Space street\u001b[39;00m\n\u001b[0;32m---> 18\u001b[0m \u001b[38;5;28mprint\u001b[39m(person[\u001b[38;5;124m'\u001b[39m\u001b[38;5;124mcity\u001b[39m\u001b[38;5;124m'\u001b[39m])\n",
      "\u001b[0;31mKeyError\u001b[0m: 'city'"
     ]
    }
   ],
   "source": [
    "person = {\n",
    "    'first_name':'Francesca',\n",
    "    'last_name':'Carrey',\n",
    "    'age':27,\n",
    "    'country':'Finland',\n",
    "    'is_marred':True,\n",
    "    'skills':['JavaScript', 'React', 'Node', 'MongoDB', 'Python'],\n",
    "    'address':{\n",
    "        'street':'Space street',\n",
    "        'zipcode':'02210'\n",
    "    }\n",
    "    }\n",
    "print(person['first_name']) # Asabeneh\n",
    "print(person['country'])    # Finland\n",
    "print(person['skills'])     # ['JavaScript', 'React', 'Node', 'MongoDB', 'Python']\n",
    "print(person['skills'][0])  # JavaScript\n",
    "print(person['address']['street']) # Space street\n",
    "print(person['city'])       # Error"
   ]
  },
  {
   "cell_type": "markdown",
   "metadata": {},
   "source": [
    "Accessing an item by key name raises an error if the key does not exist. To avoid this error first we have to check if a key exist or we can use the _get_ method. The get method returns None, which is a NoneType object data type, if the key does not exist.\n"
   ]
  },
  {
   "cell_type": "code",
   "execution_count": 45,
   "metadata": {},
   "outputs": [
    {
     "name": "stdout",
     "output_type": "stream",
     "text": [
      "Francesca\n",
      "Finland\n",
      "['JavaScript', 'React', 'Node', 'MongoDB', 'Python']\n",
      "None\n"
     ]
    }
   ],
   "source": [
    "person = {\n",
    "    'first_name':'Francesca',\n",
    "    'last_name':'Carrey',\n",
    "    'age':27,\n",
    "    'country':'Finland',\n",
    "    'is_marred':True,\n",
    "    'skills':['JavaScript', 'React', 'Node', 'MongoDB', 'Python'],\n",
    "    'address':{\n",
    "        'street':'Space street',\n",
    "        'zipcode':'02210'\n",
    "    }\n",
    "    }\n",
    "\n",
    "print(person.get('first_name')) # Asabeneh\n",
    "print(person.get('country'))    # Finland\n",
    "print(person.get('skills')) #['HTML','CSS','JavaScript', 'React', 'Node', 'MongoDB', 'Python']\n",
    "print(person.get('city'))   # None"
   ]
  },
  {
   "cell_type": "markdown",
   "metadata": {},
   "source": [
    "### Adding Items to a Dictionary\n",
    "\n",
    "We can add new key and value pairs to a dictionary"
   ]
  },
  {
   "cell_type": "code",
   "execution_count": null,
   "metadata": {},
   "outputs": [],
   "source": [
    "# syntax\n",
    "dct = {'key1':'value1', 'key2':'value2', 'key3':'value3', 'key4':'value4'}\n",
    "dct['key5'] = 'value5'"
   ]
  },
  {
   "cell_type": "markdown",
   "metadata": {},
   "source": [
    "\n",
    "**Example:**"
   ]
  },
  {
   "cell_type": "code",
   "execution_count": 47,
   "metadata": {},
   "outputs": [
    {
     "name": "stdout",
     "output_type": "stream",
     "text": [
      "{'first_name': 'Francesca', 'last_name': 'Carrey', 'age': 27, 'country': 'Finland', 'is_marred': True, 'skills': ['JavaScript', 'React', 'Node', 'MongoDB', 'Python', 'HTML'], 'address': {'street': 'Space street', 'zipcode': '02210'}, 'job_title': 'Instructor'}\n"
     ]
    }
   ],
   "source": [
    "person = {\n",
    "    'first_name':'Francesca',\n",
    "    'last_name':'Carrey',\n",
    "    'age':27,\n",
    "    'country':'Finland',\n",
    "    'is_marred':True,\n",
    "    'skills':['JavaScript', 'React', 'Node', 'MongoDB', 'Python'],\n",
    "    'address':{\n",
    "        'street':'Space street',\n",
    "        'zipcode':'02210'\n",
    "    }\n",
    "    }\n",
    "person['job_title'] = 'Instructor'\n",
    "person['skills'].append('HTML')\n",
    "print(person)"
   ]
  },
  {
   "cell_type": "markdown",
   "metadata": {},
   "source": [
    "### Modifying Items in a Dictionary\n",
    "\n",
    "We can modify items in a dictionary\n"
   ]
  },
  {
   "cell_type": "code",
   "execution_count": 48,
   "metadata": {},
   "outputs": [],
   "source": [
    "# syntax\n",
    "dct = {'key1':'value1', 'key2':'value2', 'key3':'value3', 'key4':'value4'}\n",
    "dct['key1'] = 'value-one'"
   ]
  },
  {
   "cell_type": "markdown",
   "metadata": {},
   "source": [
    "**Example:**"
   ]
  },
  {
   "cell_type": "code",
   "execution_count": 49,
   "metadata": {},
   "outputs": [],
   "source": [
    "person = {\n",
    "    'first_name':'Francesca',\n",
    "    'last_name':'Carrey',\n",
    "    'age':27,\n",
    "    'country':'Finland',\n",
    "    'is_marred':True,\n",
    "    'skills':['JavaScript', 'React', 'Node', 'MongoDB', 'Python'],\n",
    "    'address':{\n",
    "        'street':'Space street',\n",
    "        'zipcode':'02210'\n",
    "    }\n",
    "    }\n",
    "person['first_name'] = 'Eyob'\n",
    "person['age'] = 252"
   ]
  },
  {
   "cell_type": "markdown",
   "metadata": {},
   "source": [
    "### Checking Keys in a Dictionary\n",
    "\n",
    "We use the _in_ operator to check if a key exist in a dictionary"
   ]
  },
  {
   "cell_type": "code",
   "execution_count": 50,
   "metadata": {},
   "outputs": [
    {
     "name": "stdout",
     "output_type": "stream",
     "text": [
      "True\n",
      "False\n"
     ]
    }
   ],
   "source": [
    "# syntax\n",
    "dct = {'key1':'value1', 'key2':'value2', 'key3':'value3', 'key4':'value4'}\n",
    "print('key2' in dct) # True\n",
    "print('key5' in dct) # False"
   ]
  },
  {
   "cell_type": "markdown",
   "metadata": {},
   "source": [
    "### Removing Key and Value Pairs from a Dictionary\n",
    "\n",
    "- _pop(key)_: removes the item with the specified key name:\n",
    "- _popitem()_: removes the last item\n",
    "- _del_: removes an item with specified key name"
   ]
  },
  {
   "cell_type": "code",
   "execution_count": 51,
   "metadata": {},
   "outputs": [],
   "source": [
    "# syntax\n",
    "dct = {'key1':'value1', 'key2':'value2', 'key3':'value3', 'key4':'value4'}\n",
    "dct.pop('key1') # removes key1 item\n",
    "dct = {'key1':'value1', 'key2':'value2', 'key3':'value3', 'key4':'value4'}\n",
    "dct.popitem() # removes the last item\n",
    "del dct['key2'] # removes key2 item"
   ]
  },
  {
   "cell_type": "markdown",
   "metadata": {},
   "source": [
    "\n",
    "**Example:**"
   ]
  },
  {
   "cell_type": "code",
   "execution_count": 53,
   "metadata": {},
   "outputs": [],
   "source": [
    "person = {\n",
    "    'first_name':'Francesca',\n",
    "    'last_name':'Carrey',\n",
    "    'age':27,\n",
    "    'country':'Finland',\n",
    "    'is_married':True,\n",
    "    'skills':['JavaScript', 'React', 'Node', 'MongoDB', 'Python'],\n",
    "    'address':{\n",
    "        'street':'Space street',\n",
    "        'zipcode':'02210'\n",
    "    }\n",
    "    }\n",
    "person.pop('first_name')        # Removes the firstname item\n",
    "person.popitem()                # Removes the address item\n",
    "del person['is_married']        # Removes the is_married item"
   ]
  },
  {
   "cell_type": "markdown",
   "metadata": {},
   "source": [
    "### Changing Dictionary to a List of Items\n",
    "\n",
    "The _items()_ method changes dictionary to a list of tuples."
   ]
  },
  {
   "cell_type": "code",
   "execution_count": 54,
   "metadata": {},
   "outputs": [
    {
     "name": "stdout",
     "output_type": "stream",
     "text": [
      "dict_items([('key1', 'value1'), ('key2', 'value2'), ('key3', 'value3'), ('key4', 'value4')])\n"
     ]
    }
   ],
   "source": [
    "# syntax\n",
    "dct = {'key1':'value1', 'key2':'value2', 'key3':'value3', 'key4':'value4'}\n",
    "print(dct.items()) # dict_items([('key1', 'value1'), ('key2', 'value2'), ('key3', 'value3'), ('key4', 'value4')])\n"
   ]
  },
  {
   "cell_type": "markdown",
   "metadata": {},
   "source": [
    "### Clearing a Dictionary\n",
    "\n",
    "If we don't want the items in a dictionary we can clear them using _clear()_ method\n"
   ]
  },
  {
   "cell_type": "code",
   "execution_count": 55,
   "metadata": {},
   "outputs": [
    {
     "name": "stdout",
     "output_type": "stream",
     "text": [
      "None\n"
     ]
    }
   ],
   "source": [
    "# syntax\n",
    "dct = {'key1':'value1', 'key2':'value2', 'key3':'value3', 'key4':'value4'}\n",
    "print(dct.clear()) # None"
   ]
  },
  {
   "cell_type": "markdown",
   "metadata": {},
   "source": [
    "### Deleting a Dictionary\n",
    "\n",
    "If we do not use the dictionary we can delete it completely"
   ]
  },
  {
   "cell_type": "code",
   "execution_count": 56,
   "metadata": {},
   "outputs": [],
   "source": [
    "# syntax\n",
    "dct = {'key1':'value1', 'key2':'value2', 'key3':'value3', 'key4':'value4'}\n",
    "del dct"
   ]
  },
  {
   "cell_type": "markdown",
   "metadata": {},
   "source": [
    "### Dictionaries and variables\n",
    "There is not room to store whole dictionary in a variable, so the variable stores a pointer to the dictionary. That can be shown like this.\n",
    "\n",
    "![image.png](https://raw.githubusercontent.com/kushnertodd/CFTM-intro-to-python/af686fa42bcc496cc70d56ba96b61afb75960a77/notebooks/dict2.jpg)\n",
    "\n",
    "When a dictionary is assigned to a variable and that variable is assigned to another variable, the entire dictionary isn't copied into the second variable. Only the pointer is copied.\n",
    "\n",
    "![image.png](https://raw.githubusercontent.com/kushnertodd/CFTM-intro-to-python/af686fa42bcc496cc70d56ba96b61afb75960a77/notebooks/dict3.jpg)\n",
    "\n",
    "We can show that when both variables are pointing to the same dictionary, when we change the dictionary through the first variable, and we will se the change looking through the second variable."
   ]
  },
  {
   "cell_type": "code",
   "execution_count": 61,
   "metadata": {},
   "outputs": [
    {
     "name": "stdout",
     "output_type": "stream",
     "text": [
      "{'leaf': 'green', 'sky': 'blue', 'apple': 'red'}\n",
      "D is  {'leaf': 'green', 'sky': 'blue', 'apple': 'yellow'}\n",
      "E is  {'leaf': 'green', 'sky': 'blue', 'apple': 'yellow'}\n"
     ]
    }
   ],
   "source": [
    "D = { \"leaf\": \"green\", \"sky\": \"blue\", \"apple\": \"red\"}\n",
    "E = D\n",
    "print(E)\n",
    "D[\"apple\"] = \"yellow\"\n",
    "print('D is ', D)\n",
    "print('E is ', E)"
   ]
  },
  {
   "cell_type": "markdown",
   "metadata": {},
   "source": [
    "![image.png](https://raw.githubusercontent.com/kushnertodd/CFTM-intro-to-python/af686fa42bcc496cc70d56ba96b61afb75960a77/notebooks/dict4.jpg)"
   ]
  },
  {
   "cell_type": "markdown",
   "metadata": {},
   "source": [
    "### Copy a Dictionary\n",
    "\n",
    "We can copy a dictionary using a _copy()_ method. Using copy we can avoid mutation of the original dictionary.\n"
   ]
  },
  {
   "cell_type": "code",
   "execution_count": 57,
   "metadata": {},
   "outputs": [],
   "source": [
    "# syntax\n",
    "dct = {'key1':'value1', 'key2':'value2', 'key3':'value3', 'key4':'value4'}\n",
    "dct_copy = dct.copy() # {'key1':'value1', 'key2':'value2', 'key3':'value3', 'key4':'value4'}\n"
   ]
  },
  {
   "cell_type": "markdown",
   "metadata": {},
   "source": [
    "To assign a dictionary to another variable and be able to change the dictionary through the second variable without affecting the first dictionary , the copy function makes a copy of the dictionary before assigning it to the second variable. Changing the second dictionary then doesn't change the first dictionary.\n",
    "\n",
    "![image.png](https://raw.githubusercontent.com/kushnertodd/CFTM-intro-to-python/af686fa42bcc496cc70d56ba96b61afb75960a77/notebooks/dict5.jpg)"
   ]
  },
  {
   "cell_type": "code",
   "execution_count": 60,
   "metadata": {},
   "outputs": [
    {
     "name": "stdout",
     "output_type": "stream",
     "text": [
      "{'leaf': 'green', 'sky': 'blue', 'apple': 'red'}\n",
      "after D[\"apple\"] = \"yellow\"\n",
      "D is  {'leaf': 'green', 'sky': 'blue', 'apple': 'yellow'}\n",
      "E is  {'leaf': 'green', 'sky': 'blue', 'apple': 'red'}\n"
     ]
    }
   ],
   "source": [
    "D = { \"leaf\": \"green\", \"sky\": \"blue\", \"apple\": \"red\"}\n",
    "E = D.copy()\n",
    "print(E)\n",
    "D[\"apple\"] = \"yellow\"\n",
    "print('after D[\"apple\"] = \"yellow\"')\n",
    "print(\"D is \", D)\n",
    "print(\"E is \", E)"
   ]
  },
  {
   "cell_type": "markdown",
   "metadata": {},
   "source": [
    "### Getting Dictionary Keys as a List\n",
    "\n",
    "The _keys()_ method gives us all the keys of a a dictionary as a list.\n"
   ]
  },
  {
   "cell_type": "code",
   "execution_count": 58,
   "metadata": {},
   "outputs": [
    {
     "name": "stdout",
     "output_type": "stream",
     "text": [
      "dict_keys(['key1', 'key2', 'key3', 'key4'])\n"
     ]
    }
   ],
   "source": [
    "# syntax\n",
    "dct = {'key1':'value1', 'key2':'value2', 'key3':'value3', 'key4':'value4'}\n",
    "keys = dct.keys()\n",
    "print(keys)     # dict_keys(['key1', 'key2', 'key3', 'key4'])"
   ]
  },
  {
   "cell_type": "markdown",
   "metadata": {},
   "source": [
    "### Getting Dictionary Values as a List\n",
    "\n",
    "The _values_ method gives us all the values of a a dictionary as a list.\n"
   ]
  },
  {
   "cell_type": "code",
   "execution_count": 59,
   "metadata": {},
   "outputs": [
    {
     "name": "stdout",
     "output_type": "stream",
     "text": [
      "dict_values(['value1', 'value2', 'value3', 'value4'])\n"
     ]
    }
   ],
   "source": [
    "# syntax\n",
    "dct = {'key1':'value1', 'key2':'value2', 'key3':'value3', 'key4':'value4'}\n",
    "values = dct.values()\n",
    "print(values)     # dict_values(['value1', 'value2', 'value3', 'value4'])\n"
   ]
  },
  {
   "cell_type": "markdown",
   "metadata": {},
   "source": [
    "### Merging two dictinaries "
   ]
  },
  {
   "cell_type": "code",
   "execution_count": 64,
   "metadata": {},
   "outputs": [
    {
     "name": "stdout",
     "output_type": "stream",
     "text": [
      "{'a': 1, 'b': 2, 'c': 3}\n",
      "{'a': 1, 'b': 2, 'c': 4}\n"
     ]
    }
   ],
   "source": [
    "dict1 = {\"a\": 1, \"b\": 2}\n",
    "dict2 = {\"c\": 3}\n",
    "dict1.update(dict2)\n",
    "print(dict1)\n",
    "\n",
    "# If they have same keys:\n",
    "dict1.update({\"c\": 4})\n",
    "print(dict1)"
   ]
  },
  {
   "cell_type": "markdown",
   "metadata": {},
   "source": [
    "### The keys of a dict have to be immutable\n",
    "Thus you can not use e.g. a list or a dict as key because they are mutable types :"
   ]
  },
  {
   "cell_type": "code",
   "execution_count": 65,
   "metadata": {},
   "outputs": [],
   "source": [
    "# bad_dict = {['my_list'], 'value'}  # Raises TypeError"
   ]
  },
  {
   "cell_type": "code",
   "execution_count": 66,
   "metadata": {},
   "outputs": [
    {
     "name": "stdout",
     "output_type": "stream",
     "text": [
      "{'my key': ['Python', 'is', 'still', 'cool']}\n"
     ]
    }
   ],
   "source": [
    "good_dict = {\"my key\": [\"Python\", \"is\", \"still\", \"cool\"]}\n",
    "print(good_dict)"
   ]
  },
  {
   "cell_type": "code",
   "execution_count": null,
   "metadata": {},
   "outputs": [],
   "source": []
  }
 ],
 "metadata": {
  "kernelspec": {
   "display_name": "base",
   "language": "python",
   "name": "python3"
  },
  "language_info": {
   "codemirror_mode": {
    "name": "ipython",
    "version": 3
   },
   "file_extension": ".py",
   "mimetype": "text/x-python",
   "name": "python",
   "nbconvert_exporter": "python",
   "pygments_lexer": "ipython3",
   "version": "3.11.5"
  }
 },
 "nbformat": 4,
 "nbformat_minor": 2
}
