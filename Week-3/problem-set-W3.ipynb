{
 "cells": [
  {
   "cell_type": "markdown",
   "metadata": {},
   "source": [
    "# Week 3 - Problem Set\n",
    "\n",
    "**KF Python Course**\n",
    "\n",
    "Out : *February 20, 2025*\n",
    "\n",
    "Due : *February 27, 2025*\n",
    "___"
   ]
  },
  {
   "cell_type": "markdown",
   "metadata": {},
   "source": [
    "# Part A - Sets and Dictionaries\n",
    "\n",
    "## Sets:"
   ]
  },
  {
   "cell_type": "code",
   "execution_count": null,
   "metadata": {},
   "outputs": [],
   "source": [
    "# sets\n",
    "it_companies = {'Facebook', 'Google', 'Microsoft', 'Apple', 'IBM', 'Oracle', 'Amazon'}\n",
    "A = {19, 22, 24, 20, 25, 26}\n",
    "B = {19, 22, 20, 25, 26, 24, 28, 27}\n",
    "age = [22, 19, 24, 25, 26, 24, 25, 24]"
   ]
  },
  {
   "cell_type": "markdown",
   "metadata": {},
   "source": [
    "1. Find the length of the set it_companies\n",
    "2. Add 'Twitter' to it_companies\n",
    "3. Insert multiple IT companies at once to the set it_companies\n",
    "4. Remove one of the companies from the set it_companies\n",
    "5. What is the difference between remove and discard\n",
    "\n",
    "6. Join A and B\n",
    "7. Find A intersection B\n",
    "8. Is A subset of B\n",
    "9. Are A and B disjoint sets\n",
    "10. Join A with B and B with A\n",
    "11. What is the symmetric difference between A and B\n",
    "12. Delete the sets completely\n",
    "\n",
    "13. Convert the ages to a set and compare the length of the list and the set, which one is bigger?\n",
    "14. Explain the difference between the following data types: string, list, tuple and set\n",
    "15. _I am a teacher and I love to inspire and teach people._ How many unique words have been used in the sentence? Use the split methods and set to get the unique words."
   ]
  },
  {
   "cell_type": "markdown",
   "metadata": {},
   "source": [
    "## Dictionaries"
   ]
  },
  {
   "cell_type": "markdown",
   "metadata": {},
   "source": [
    "1. Create  an empty dictionary called dog\n",
    "2. Add name, color, breed, legs, age to the dog dictionary\n",
    "3. Create a student dictionary and add first_name, last_name, gender, age, marital status, skills, country, city and address as keys for the dictionary\n",
    "4. Get the length of the student dictionary\n",
    "5. Get the value of skills and check the data type, it should be a list\n",
    "6. Modify the skills values by adding one or two skills\n",
    "7. Get the dictionary keys as a list\n",
    "8. Get the dictionary values as a list\n",
    "9. Change the dictionary to a list of tuples using _items()_ method\n",
    "10. Delete one of the items in the dictionary\n",
    "11. Delete one of the dictionaries"
   ]
  },
  {
   "cell_type": "markdown",
   "metadata": {},
   "source": [
    "12. Combine dict_1, dict2, and dict3 into my_dict. In addition, get the value of special_key from my_dict into a special_value variable. Note that original dictionaries should stay untouched and special_key should be removed from my_dict."
   ]
  },
  {
   "cell_type": "code",
   "execution_count": 1,
   "metadata": {},
   "outputs": [],
   "source": [
    "dict1 = dict(key1=\"This is not that hard\", key2=\"Python is still cool\") # This is also a away to initialize a dict\n",
    "dict2 = {\"key1\": 123, \"special_key\": \"secret\"}\n",
    "# This is also a away to initialize a dict (list of tuples)\n",
    "dict3 = dict([(\"key2\", 456), (\"keyX\", \"X\")])"
   ]
  },
  {
   "cell_type": "code",
   "execution_count": null,
   "metadata": {},
   "outputs": [],
   "source": [
    "# 'Your impelementation'\n",
    "my_dict = \n",
    "special_value = "
   ]
  },
  {
   "cell_type": "markdown",
   "metadata": {},
   "source": [
    "# Part B - Conditionals\n",
    "\n",
    "1. Get user input using input(“Enter your age: ”). If user is 18 or older, give feedback: You are old enough to drive. If below 18 give feedback to wait for the missing amount of years. Output:\n",
    "\n",
    "    ```sh\n",
    "    Enter your age: 30\n",
    "    You are old enough to learn to drive.\n",
    "    Output:\n",
    "    Enter your age: 15\n",
    "    You need 3 more years to learn to drive.\n",
    "    ```\n",
    "\n",
    "2. Compare the values of my_age and your_age using if … else. Who is older (me or you)? Use input(“Enter your age: ”) to get the age as input. You can use a nested condition to print 'year' for 1 year difference in age, 'years' for bigger differences, and a custom text if my_age = your_age. Output:\n",
    "\n",
    "    ```sh\n",
    "    Enter your age: 30\n",
    "    You are 5 years older than me.\n",
    "    ```\n",
    "\n",
    "3. Get two numbers from the user using input prompt. If a is greater than b return a is greater than b, if a is less b return a is smaller than b, else a is equal to b. Output:\n",
    "\n",
    "```sh\n",
    "Enter number one: 4\n",
    "Enter number two: 3\n",
    "4 is greater than 3\n",
    "```\n",
    "\n",
    "\n",
    "4. Write a code which gives grade to students according to theirs scores:\n",
    "\n",
    "     ```sh\n",
    "     80-100, A\n",
    "     70-89, B\n",
    "     60-69, C\n",
    "     50-59, D\n",
    "     0-49, F\n",
    "     ```\n",
    "\n",
    "5. Write a program to find out whether a student has passed or failed if it requires a total of 40% and at least 33% in each subject to pass. Assume 3 subjects and take marks as an input from the user\n",
    "\n",
    "6. A spam comment is defined as a text containing following keywords:\n",
    "“Make a lot of money”, “buy now”, “subscribe this”, “click this”. Write a program\n",
    "to detect these spams.\n",
    "\n",
    "7. Write a program to find whether a given username contains less than 10\n",
    "characters or not\n",
    "\n",
    "8. Check if the season is Autumn, Winter, Spring or Summer. If the user input is:\n",
    " September, October or November, the season is Autumn.\n",
    " December, January or February, the season is Winter.\n",
    " March, April or May, the season is Spring\n",
    " June, July or August, the season is Summer\n",
    "\n",
    "9. The following list contains some fruits:\n",
    "\n",
    " ```sh\n",
    " fruits = ['banana', 'orange', 'mango', 'lemon']\n",
    " ```\n",
    "\n",
    " If a fruit doesn't exist in the list add the fruit to the list and print the modified list. If the fruit exists print('That fruit already exist in the list')\n",
    "\n",
    "\n",
    "\n",
    "10. Here we have a person dictionary. Feel free to modify it!\n",
    "\n",
    "```py\n",
    "        person={\n",
    "    'first_name': 'Asabeneh',\n",
    "    'last_name': 'Yetayeh',\n",
    "    'age': 250,\n",
    "    'country': 'Finland',\n",
    "    'is_marred': True,\n",
    "    'skills': ['JavaScript', 'React', 'Node', 'MongoDB', 'Python'],\n",
    "    'address': {\n",
    "        'street': 'Space street',\n",
    "        'zipcode': '02210'\n",
    "    }\n",
    "    }\n",
    "```\n",
    "\n",
    "- Check if the person dictionary has skills key, if so print out the middle skill in the skills list.\n",
    "- Check if the person dictionary has skills key, if so check if the person has 'Python' skill and print out the result.\n",
    "- If a person skills has only JavaScript and React, print('He is a front end developer'), if the person skills has Node, Python, MongoDB, print('He is a backend developer'), if the person skills has React, Node and MongoDB, Print('He is a fullstack developer'), else print('unknown title') - for more accurate results more conditions can be nested!\n",
    "- If the person is married and if he lives in Finland, print the information in the following format:\n",
    "\n",
    "```py\n",
    "    Asabeneh Yetayeh lives in Finland. He is married.\n",
    "```"
   ]
  },
  {
   "cell_type": "markdown",
   "metadata": {},
   "source": []
  }
 ],
 "metadata": {
  "kernelspec": {
   "display_name": "base",
   "language": "python",
   "name": "python3"
  },
  "language_info": {
   "codemirror_mode": {
    "name": "ipython",
    "version": 3
   },
   "file_extension": ".py",
   "mimetype": "text/x-python",
   "name": "python",
   "nbconvert_exporter": "python",
   "pygments_lexer": "ipython3",
   "version": "3.11.5"
  }
 },
 "nbformat": 4,
 "nbformat_minor": 2
}
