{
 "cells": [
  {
   "cell_type": "markdown",
   "metadata": {},
   "source": [
    "# Week 3 - Lecture 6\n",
    "\n",
    "**KF Python Course**\n",
    "\n",
    "*February 20, 2025*\n",
    "___"
   ]
  },
  {
   "cell_type": "markdown",
   "metadata": {},
   "source": [
    "## Git Repository Update\n",
    "\n",
    "Clone the repository, the repository is update every week"
   ]
  },
  {
   "cell_type": "raw",
   "metadata": {
    "vscode": {
     "languageId": "raw"
    }
   },
   "source": [
    "git stash\n",
    "git pull\n",
    "git stash pop"
   ]
  },
  {
   "cell_type": "markdown",
   "metadata": {},
   "source": [
    "## Conditionals\n",
    "\n",
    "By default, statements in Python script are executed sequentially from top to bottom. If the processing logic require so, the sequential flow of execution can be altered in two way:\n",
    "\n",
    "- Conditional execution: a block of one or more statements will be executed if a certain expression is true\n",
    "- Repetitive execution: a block of one or more statements will be repetitively executed as long as a certain expression is true. In this section, we will cover _if_, _else_, _elif_ statements. The comparison and logical operators we learned in previous sections will be useful here."
   ]
  },
  {
   "cell_type": "markdown",
   "metadata": {},
   "source": [
    "### Indentation\n",
    "Python relies on indentation (whitespace at the beginning of a line) to define the block of instructions to be run by the control statements below. \n",
    "The instructions in the block should be indented the same amount."
   ]
  },
  {
   "cell_type": "markdown",
   "metadata": {},
   "source": [
    "\n",
    "### If Condition\n",
    "\n",
    "In python and other programming languages the key word _if_ is used to check if a condition is true and to execute the block code. Remember the indentation after the colon.\n",
    "\n",
    "`if` *condition*`:` \\\n",
    " &nbsp;&nbsp;&nbsp;&nbsp;*instruction* \\\n",
    " &nbsp;&nbsp;&nbsp;&nbsp;*instruction* \\\n",
    "*instruction run regardless of condition result*\n",
    "\n",
    "![image.png](https://raw.githubusercontent.com/kushnertodd/CFTM-intro-to-python/af686fa42bcc496cc70d56ba96b61afb75960a77/notebooks/if3.jpg)"
   ]
  },
  {
   "cell_type": "markdown",
   "metadata": {},
   "source": [
    "**Example: 1**"
   ]
  },
  {
   "cell_type": "code",
   "execution_count": 1,
   "metadata": {},
   "outputs": [
    {
     "name": "stdout",
     "output_type": "stream",
     "text": [
      "A is a positive number\n"
     ]
    }
   ],
   "source": [
    "a = 3\n",
    "if a > 0:\n",
    "    print('A is a positive number')\n",
    "# A is a positive number"
   ]
  },
  {
   "cell_type": "markdown",
   "metadata": {},
   "source": [
    "An `if` statment tests a *condition*, like `x < 5`, and if true runs the indented instructions after it. \n",
    "The condition must be followed by a colon `:`.\n",
    "The next un-indented instruction is run whether or not the `if` condition is true. "
   ]
  },
  {
   "cell_type": "code",
   "execution_count": null,
   "metadata": {},
   "outputs": [
    {
     "name": "stdout",
     "output_type": "stream",
     "text": [
      "number to test: 1\n",
      "x is less than 2\n"
     ]
    }
   ],
   "source": [
    "x = int(input(\"number to test: \"))\n",
    "if x > 3:\n",
    "    print(\"x is more than 3\")\n",
    "if x < 2:\n",
    "    print(\"x is less than 2\")"
   ]
  },
  {
   "cell_type": "markdown",
   "metadata": {},
   "source": [
    "These are available numeric operators.\n",
    "\n",
    "|operator |description\n",
    "|:- |:-\n",
    "|== |equal to\n",
    "|!= |not equal to\n",
    "|> |greater than\n",
    "|>= |greater than or equal to\n",
    "|< |less than\n",
    "|<= |less than or equal\n",
    "\n",
    "Note that the test for equal values uses `==` to avoid confusion with `=` that assigns values to variables. \n"
   ]
  },
  {
   "cell_type": "code",
   "execution_count": 8,
   "metadata": {},
   "outputs": [
    {
     "name": "stdout",
     "output_type": "stream",
     "text": [
      "False\n",
      "True\n",
      "True\n",
      "False\n",
      "False\n",
      "False\n",
      "True\n",
      "True\n",
      "False\n",
      "True\n"
     ]
    }
   ],
   "source": [
    "print(f\"{1 == 0}\")\n",
    "print(f\"{1 != 0}\")\n",
    "print(f\"{1 > 0}\")\n",
    "print(f\"{1 > 1}\")\n",
    "print(f\"{1 < 0}\")\n",
    "print(f\"{1 < 1}\")\n",
    "print(f\"{1 >= 0}\")\n",
    "print(f\"{1 >= 1}\")\n",
    "print(f\"{1 <= 0}\")\n",
    "print(f\"{1 <= 1}\")"
   ]
  },
  {
   "cell_type": "markdown",
   "metadata": {},
   "source": [
    "### Tests with strings\n",
    "The `==` operator can test whether strings are the same. "
   ]
  },
  {
   "cell_type": "code",
   "execution_count": null,
   "metadata": {},
   "outputs": [],
   "source": [
    "s = input('type a string to test against \"test\": ')\n",
    "t = \"test\"\n",
    "if s == t: \n",
    "    print(s, \" is \", t)"
   ]
  },
  {
   "cell_type": "markdown",
   "metadata": {},
   "source": [
    "The `!=` operator can test whether strings are different."
   ]
  },
  {
   "cell_type": "code",
   "execution_count": null,
   "metadata": {},
   "outputs": [],
   "source": [
    "s = input('type a string to test against \"test\": ')\n",
    "t = \"test\"\n",
    "if s != t: \n",
    "    print(s, \" is not \", t)    "
   ]
  },
  {
   "cell_type": "markdown",
   "metadata": {},
   "source": [
    "The `in` operator can test whether a string is part of another."
   ]
  },
  {
   "cell_type": "code",
   "execution_count": null,
   "metadata": {},
   "outputs": [],
   "source": [
    "s = input('type a string to test against \"test\": ')\n",
    "t = \"test\"\n",
    "if t in s: \n",
    "    print(s, \" is part of \", t)    "
   ]
  },
  {
   "cell_type": "markdown",
   "metadata": {},
   "source": [
    "As you can see in the example above, 3 is greater than 0. The condition was true and the block code was executed. However, if the condition is false, we do not see the result. In order to see the result of the falsy condition, we should have another block, which is going to be _else_.\n",
    "\n",
    "### If Else\n",
    "\n",
    "If condition is true the first block will be executed, if not the else condition will run.\n",
    "\n",
    "`if` *condition`:`\\\n",
    "&nbsp;&nbsp;&nbsp;&nbsp;*instruction*\\\n",
    "&nbsp;&nbsp;&nbsp;&nbsp;*instruction*\\\n",
    "`else:`\\\n",
    "&nbsp;&nbsp;&nbsp;&nbsp;*instruction*\\\n",
    "&nbsp;&nbsp;&nbsp;&nbsp;*instruction*\n",
    "\n",
    "![image.png](https://raw.githubusercontent.com/kushnertodd/CFTM-intro-to-python/af686fa42bcc496cc70d56ba96b61afb75960a77/notebooks/if1.jpg)"
   ]
  },
  {
   "cell_type": "markdown",
   "metadata": {},
   "source": [
    "**Example:**"
   ]
  },
  {
   "cell_type": "code",
   "execution_count": 2,
   "metadata": {},
   "outputs": [
    {
     "name": "stdout",
     "output_type": "stream",
     "text": [
      "A is a positive number\n"
     ]
    }
   ],
   "source": [
    "a = 3\n",
    "if a < 0:\n",
    "    print('A is a negative number')\n",
    "else:\n",
    "    print('A is a positive number')"
   ]
  },
  {
   "cell_type": "markdown",
   "metadata": {},
   "source": [
    "The condition above proves false, therefore the else block was executed. How about if our condition is more than two? We could use _elif_.\n",
    "\n",
    "### If Elif Else\n",
    "\n",
    "In our daily life, we make decisions on daily basis. We make decisions not by checking one or two conditions but multiple conditions. As similar to life, programming is also full of conditions. We use _elif_ when we have multiple conditions.\n",
    "\n",
    "`if` *condition*`:`\\\n",
    "&nbsp;&nbsp;&nbsp;&nbsp;*instruction*\\\n",
    "&nbsp;&nbsp;&nbsp;&nbsp;*instruction*\\\n",
    "`elif` *condition*`:`\\\n",
    "&nbsp;&nbsp;&nbsp;&nbsp;*instruction*\\\n",
    "&nbsp;&nbsp;&nbsp;&nbsp;*instruction*\\\n",
    "`elif` *condition*`:`\\\n",
    "&nbsp;&nbsp;&nbsp;&nbsp;*instruction*\\\n",
    "&nbsp;&nbsp;&nbsp;&nbsp;*instruction*\\\n",
    "`else:`\\\n",
    "&nbsp;&nbsp;&nbsp;&nbsp;*instruction*\\\n",
    "&nbsp;&nbsp;&nbsp;&nbsp;*instruction*\n",
    "\n",
    "![image.png](https://raw.githubusercontent.com/kushnertodd/CFTM-intro-to-python/af686fa42bcc496cc70d56ba96b61afb75960a77/notebooks/if2.jpg)"
   ]
  },
  {
   "cell_type": "markdown",
   "metadata": {},
   "source": [
    "**Example:**"
   ]
  },
  {
   "cell_type": "code",
   "execution_count": 3,
   "metadata": {},
   "outputs": [
    {
     "name": "stdout",
     "output_type": "stream",
     "text": [
      "A is zero\n"
     ]
    }
   ],
   "source": [
    "a = 0\n",
    "if a > 0:\n",
    "    print('A is a positive number')\n",
    "elif a < 0:\n",
    "    print('A is a negative number')\n",
    "else:\n",
    "    print('A is zero')"
   ]
  },
  {
   "cell_type": "markdown",
   "metadata": {},
   "source": [
    "### Short Hand"
   ]
  },
  {
   "cell_type": "code",
   "execution_count": null,
   "metadata": {},
   "outputs": [],
   "source": [
    "# syntax\n",
    "code if condition else code"
   ]
  },
  {
   "cell_type": "markdown",
   "metadata": {},
   "source": [
    "**Example:**"
   ]
  },
  {
   "cell_type": "code",
   "execution_count": 4,
   "metadata": {},
   "outputs": [
    {
     "name": "stdout",
     "output_type": "stream",
     "text": [
      "A is positive\n"
     ]
    }
   ],
   "source": [
    "a = 3\n",
    "print('A is positive') if a > 0 else print('A is negative') # first condition met, 'A is positive' will be printed"
   ]
  },
  {
   "cell_type": "markdown",
   "metadata": {},
   "source": [
    "\n",
    "### Nested Conditions\n",
    "\n",
    "Conditions can be nested"
   ]
  },
  {
   "cell_type": "code",
   "execution_count": null,
   "metadata": {},
   "outputs": [],
   "source": [
    "# syntax\n",
    "if condition:\n",
    "    code\n",
    "    if condition:\n",
    "    code"
   ]
  },
  {
   "cell_type": "markdown",
   "metadata": {},
   "source": [
    "\n",
    "**Example:**"
   ]
  },
  {
   "cell_type": "code",
   "execution_count": 5,
   "metadata": {},
   "outputs": [
    {
     "name": "stdout",
     "output_type": "stream",
     "text": [
      "A is zero\n"
     ]
    }
   ],
   "source": [
    "a = 0\n",
    "if a > 0:\n",
    "    if a % 2 == 0:\n",
    "        print('A is a positive and even integer')\n",
    "    else:\n",
    "        print('A is a positive number')\n",
    "elif a == 0:\n",
    "    print('A is zero')\n",
    "else:\n",
    "    print('A is a negative number')"
   ]
  },
  {
   "cell_type": "markdown",
   "metadata": {},
   "source": [
    "We can avoid writing nested condition by using logical operator _and_.\n",
    "\n",
    "### If Condition and Logical Operators"
   ]
  },
  {
   "cell_type": "code",
   "execution_count": null,
   "metadata": {},
   "outputs": [],
   "source": [
    "# syntax\n",
    "if condition and condition:\n",
    "    code"
   ]
  },
  {
   "cell_type": "markdown",
   "metadata": {},
   "source": [
    "**Example:**"
   ]
  },
  {
   "cell_type": "code",
   "execution_count": 6,
   "metadata": {},
   "outputs": [
    {
     "name": "stdout",
     "output_type": "stream",
     "text": [
      "A is zero\n"
     ]
    }
   ],
   "source": [
    "a = 0\n",
    "if a > 0 and a % 2 == 0:\n",
    "        print('A is an even and positive integer')\n",
    "elif a > 0 and a % 2 !=  0:\n",
    "     print('A is a positive integer')\n",
    "elif a == 0:\n",
    "    print('A is zero')\n",
    "else:\n",
    "    print('A is negative')"
   ]
  },
  {
   "cell_type": "markdown",
   "metadata": {},
   "source": [
    "### If and Or Logical Operators"
   ]
  },
  {
   "cell_type": "code",
   "execution_count": null,
   "metadata": {},
   "outputs": [],
   "source": [
    "# syntax\n",
    "if condition or condition:\n",
    "    code"
   ]
  },
  {
   "cell_type": "markdown",
   "metadata": {},
   "source": [
    "**Example:**"
   ]
  },
  {
   "cell_type": "code",
   "execution_count": 7,
   "metadata": {},
   "outputs": [
    {
     "name": "stdout",
     "output_type": "stream",
     "text": [
      "Access denied!\n"
     ]
    }
   ],
   "source": [
    "user = 'James'\n",
    "access_level = 3\n",
    "if user == 'admin' or access_level >= 4:\n",
    "        print('Access granted!')\n",
    "else:\n",
    "    print('Access denied!')"
   ]
  },
  {
   "cell_type": "markdown",
   "metadata": {},
   "source": [
    "The `not` operator can test whether a condition is false."
   ]
  },
  {
   "cell_type": "code",
   "execution_count": null,
   "metadata": {},
   "outputs": [
    {
     "name": "stdout",
     "output_type": "stream",
     "text": [
      "number to test:0\n"
     ]
    }
   ],
   "source": [
    "x = int(input(\"number to test: \"))\n",
    "if x > 2:\n",
    "    print(x, \" is greater than 2\")\n",
    "if not x < 1:\n",
    "    print(x, \" is not less than 1\")"
   ]
  }
 ],
 "metadata": {
  "kernelspec": {
   "display_name": "base",
   "language": "python",
   "name": "python3"
  },
  "language_info": {
   "codemirror_mode": {
    "name": "ipython",
    "version": 3
   },
   "file_extension": ".py",
   "mimetype": "text/x-python",
   "name": "python",
   "nbconvert_exporter": "python",
   "pygments_lexer": "ipython3",
   "version": "3.11.5"
  }
 },
 "nbformat": 4,
 "nbformat_minor": 2
}
